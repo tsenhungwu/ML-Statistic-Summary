{
 "cells": [
  {
   "cell_type": "markdown",
   "metadata": {},
   "source": [
    "# 1. The difference in two population proportions"
   ]
  },
  {
   "cell_type": "markdown",
   "metadata": {},
   "source": [
    "## 1.1 Assumptions\n",
    "- Independent simple random samples.\n",
    "- The sample sizes are large enough for the normal approximation to be reasonable."
   ]
  },
  {
   "cell_type": "markdown",
   "metadata": {},
   "source": [
    "## 1.2 Formulas"
   ]
  },
  {
   "cell_type": "markdown",
   "metadata": {},
   "source": [
    "$$Z = \\frac {\\hat{p_1} - \\hat{p_2}} {SE_0(\\hat{p_1} - \\hat{p_2})}$$"
   ]
  },
  {
   "cell_type": "markdown",
   "metadata": {},
   "source": [
    "$$SE_0(\\hat{p_1} - \\hat{p_2}) = \\sqrt{\\hat{p}(1-\\hat{p})\n",
    "(\\frac{1}{n_1}+\\frac{1}{n_2})}$$"
   ]
  },
  {
   "cell_type": "markdown",
   "metadata": {},
   "source": [
    "$$\\hat{p} = \\frac{X_1+X_2}{n_1+n_2}$$"
   ]
  },
  {
   "cell_type": "markdown",
   "metadata": {},
   "source": [
    "## 1.3 Question"
   ]
  },
  {
   "cell_type": "markdown",
   "metadata": {},
   "source": [
    "- **A study investigated a possible effect of a magnetic pulse on the ability of homing pigeons to navigate back to the home loft. Pigeons were randomly divided into a magnetic pulse group and a control group. The pigeons were then released from a location 106 km from the home loft.**\n",
    "- **21 of the 39 pigeons that received a magnetic pulse returned to the home loft. 22 of the 38 control group pigeons returned to the home loft.**"
   ]
  },
  {
   "cell_type": "code",
   "execution_count": 1,
   "metadata": {},
   "outputs": [],
   "source": [
    "from statsmodels.stats.proportion import proportions_ztest\n",
    "import numpy as np\n",
    "from scipy.stats import norm"
   ]
  },
  {
   "cell_type": "code",
   "execution_count": 2,
   "metadata": {},
   "outputs": [],
   "source": [
    "def z_test_two_p_proportions(count, nobs, value, alternative, alpha_level):\n",
    "    \n",
    "    # Hypothesis testing\n",
    "    z_test_statistic, p_value = proportions_ztest(count = count, nobs = nobs, \n",
    "                                                  value = value, alternative = alternative)\n",
    "    # C.I. given an alpha level\n",
    "    hat_p1 = count[0] / nobs[0]\n",
    "    hat_p2 = count[1] / nobs[1]\n",
    "    estimator = hat_p1 - hat_p2\n",
    "    standard_error = np.sqrt((hat_p1*(1-hat_p1))/nobs[0] + (hat_p2*(1-hat_p2))/nobs[1])\n",
    "    margin_error = abs((standard_error*norm.ppf(alpha_level/2)))\n",
    "    \n",
    "    upper = estimator + margin_error\n",
    "    lower = estimator - margin_error\n",
    "    \n",
    "    # Final outputs\n",
    "    return z_test_statistic, p_value, (lower, upper)"
   ]
  },
  {
   "cell_type": "markdown",
   "metadata": {},
   "source": [
    "- **Test the null hypothesis that the population proportions are equal. (The magnetic pulse has no effect.)**"
   ]
  },
  {
   "cell_type": "markdown",
   "metadata": {},
   "source": [
    "$$H_0: p_1 = p_2$$"
   ]
  },
  {
   "cell_type": "markdown",
   "metadata": {},
   "source": [
    "$$H_0: p_1 \\neq p_2$$"
   ]
  },
  {
   "cell_type": "markdown",
   "metadata": {},
   "source": [
    "- **Construct a 95% confidence interval for the estimator.**"
   ]
  },
  {
   "cell_type": "markdown",
   "metadata": {},
   "source": [
    "$$SE(\\hat{p_1} - \\hat{p_2}) = \\sqrt{\\frac{\\hat{p_1}(1-\\hat{p_1})}{n_1} + \\frac{\\hat{p_2}(1-\\hat{p_2})}{n_2}\n",
    "}$$"
   ]
  },
  {
   "cell_type": "code",
   "execution_count": 3,
   "metadata": {},
   "outputs": [
    {
     "data": {
      "text/plain": [
       "(-0.3576834327152399,\n",
       " 0.7205802327368019,\n",
       " (-0.2621200200972479, 0.18114836017821948))"
      ]
     },
     "execution_count": 3,
     "metadata": {},
     "output_type": "execute_result"
    }
   ],
   "source": [
    "# Hypothesis testing: we should not reject the null hypothesis that the population proportions are equal\n",
    "# or the magnetic pulse has no effect given the p-value 0.7206.\n",
    "# 95% C.I. is also included 0 (further support that we should not reject the null hypothesis).\n",
    "z_test_two_p_proportions(count = [21,22], nobs = [39,38], value = 0, \n",
    "                         alternative = 'two-sided', alpha_level = 0.05)"
   ]
  },
  {
   "cell_type": "code",
   "execution_count": null,
   "metadata": {},
   "outputs": [],
   "source": []
  }
 ],
 "metadata": {
  "kernelspec": {
   "display_name": "Python 3",
   "language": "python",
   "name": "python3"
  },
  "language_info": {
   "codemirror_mode": {
    "name": "ipython",
    "version": 3
   },
   "file_extension": ".py",
   "mimetype": "text/x-python",
   "name": "python",
   "nbconvert_exporter": "python",
   "pygments_lexer": "ipython3",
   "version": "3.6.6"
  }
 },
 "nbformat": 4,
 "nbformat_minor": 2
}
