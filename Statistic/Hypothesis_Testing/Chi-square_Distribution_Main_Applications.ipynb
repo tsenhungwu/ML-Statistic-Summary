{
 "cells": [
  {
   "cell_type": "markdown",
   "metadata": {},
   "source": [
    "# Chi-square Distribution Four Main Applications\n",
    "\n",
    "**1. One sample test - for population variance.**\n",
    "\n",
    "**2. Chi-square test - for one-way table (goodness-of-fit).**\n",
    "\n",
    "**3. Two sample test - for two population variances.**\n",
    "\n",
    "**4. Chi-square test - for two way tables (independence test).**"
   ]
  },
  {
   "cell_type": "markdown",
   "metadata": {},
   "source": [
    "# 1. One sample test - for population variance"
   ]
  },
  {
   "cell_type": "markdown",
   "metadata": {},
   "source": [
    "## 1.1 Formula"
   ]
  },
  {
   "cell_type": "markdown",
   "metadata": {},
   "source": [
    "$$\\chi^2 = \\frac {(n-1)s^2} {\\sigma_0^2}$$"
   ]
  },
  {
   "cell_type": "markdown",
   "metadata": {},
   "source": [
    "## 1.2 Question\n",
    "- **At a cereal filling plant quality control engineers do not want the variance of the weights of 750 gram cereal boxes to exceed 100 grams^2.**"
   ]
  },
  {
   "cell_type": "markdown",
   "metadata": {},
   "source": [
    "- **Test the null hypothesis that the true population variance is greater than 100.**"
   ]
  },
  {
   "cell_type": "markdown",
   "metadata": {},
   "source": [
    "$$H_0: \\sigma^2 = 100$$"
   ]
  },
  {
   "cell_type": "markdown",
   "metadata": {},
   "source": [
    "$$H_a: \\sigma^2 > 100$$"
   ]
  },
  {
   "cell_type": "code",
   "execution_count": 1,
   "metadata": {},
   "outputs": [],
   "source": [
    "from scipy.stats import chi2\n",
    "import numpy as np"
   ]
  },
  {
   "cell_type": "code",
   "execution_count": 2,
   "metadata": {},
   "outputs": [],
   "source": [
    "def my_chi_square(data, h0, side, direction):\n",
    "    '''\n",
    "    Perform a chi-square test for population variance\n",
    "    \n",
    "    data: a list of data.\n",
    "    h0: population variance under the null hypothesis.\n",
    "    side: either one or two sided.\n",
    "    direction: can be left (means >, or greater), right, or equal (only for two sided tests).\n",
    "    \n",
    "    Output: Return the chi-sqaure statistic and its corresponding p value.\n",
    "    '''\n",
    "    sample_var = np.var(data, ddof = 1)\n",
    "    chi_statistic = ((len(data) - 1)*sample_var) / h0\n",
    "    \n",
    "    # When direction is 'left', the corresponding p value is 1 - chi2.cdf.\n",
    "    # When direction is 'right', the corresponding p value is chi2.cdf.\n",
    "    if side == 'one':\n",
    "        if direction == 'left':\n",
    "            p_value = 1 - chi2.cdf(chi_statistic, df = len(data) - 1)\n",
    "        elif direction == 'right':\n",
    "             p_value = chi2.cdf(chi_statistic, df = len(data) - 1)\n",
    "    \n",
    "    # When side is 'two', the corresponding p value is the smallest between 1 - chi2.cdf and chi2.cdf.\n",
    "    elif side == 'two':\n",
    "        if direction == 'equal':\n",
    "            p_value = min(1 - chi2.\n",
    "                          cdf(chi_statistic, df = len(data) - 1), \n",
    "                          chi2.cdf(chi_statistic, df = len(data) - 1))       \n",
    "            p_value = p_value * 2\n",
    "        \n",
    "    return chi_statistic, p_value"
   ]
  },
  {
   "cell_type": "code",
   "execution_count": 3,
   "metadata": {},
   "outputs": [
    {
     "name": "stdout",
     "output_type": "stream",
     "text": [
      "There is a very strong evidence that the true variance of the weights of cereal in boxes of this type \n",
      "is greater than 100.\n"
     ]
    }
   ],
   "source": [
    "my_data = [775, 780, 781, 795, 803, 810, 823]\n",
    "alpha_level = 0.05\n",
    "chi_statistic, p_value = my_chi_square(my_data, h0 = 100, side = 'one', direction = 'left')\n",
    "\n",
    "if p_value < alpha_level:\n",
    "    print('There is a very strong evidence that the true variance of the weights of cereal in boxes of this type \\nis greater than 100.')\n",
    "else: \n",
    "    print(\"We don't have a strong evidence from our data to reject the null hypothesis that the \\n\\\n",
    "    true variance of the weights of cereal in boxes of this type is greater than 100.\")"
   ]
  },
  {
   "cell_type": "markdown",
   "metadata": {},
   "source": [
    "- **Find a 95% of confidence interval.**"
   ]
  },
  {
   "cell_type": "markdown",
   "metadata": {},
   "source": [
    "$$ P( \\frac {(n-1)*S^2} {\\chi^2_{\\alpha/2}} <= \\sigma^2 <= \\frac {(n-1)*S^2} {\\chi^2_{1-{\\alpha/2}}}) = 1 - \\alpha $$"
   ]
  },
  {
   "cell_type": "code",
   "execution_count": 4,
   "metadata": {},
   "outputs": [
    {
     "name": "stdout",
     "output_type": "stream",
     "text": [
      "The 95% C.I. is [131.04, 1530.24].\n"
     ]
    }
   ],
   "source": [
    "lower_bound = ((len(my_data) - 1) * np.var(my_data, ddof = 1)) / chi2.ppf(0.975, 6)\n",
    "upper_bound = ((len(my_data) - 1) * np.var(my_data, ddof = 1)) / chi2.ppf(0.025, 6)\n",
    "print('The 95% C.I. is [{}, {}].'.format(\n",
    "    round(lower_bound, 2), round(upper_bound, 2)))"
   ]
  },
  {
   "cell_type": "markdown",
   "metadata": {},
   "source": [
    "# 2. Chi-square test for one-way table (goodness-of-fit)"
   ]
  },
  {
   "cell_type": "markdown",
   "metadata": {},
   "source": [
    "## 2.1 Formula"
   ]
  },
  {
   "cell_type": "markdown",
   "metadata": {},
   "source": [
    "$$ \\chi^2 = \\sum_{i=1}^{n} \\frac {(Observed_i - Expected_i)^2} {Expected_i}$$"
   ]
  },
  {
   "cell_type": "markdown",
   "metadata": {},
   "source": [
    "$$ d.f. = n - 1$$"
   ]
  },
  {
   "cell_type": "markdown",
   "metadata": {},
   "source": [
    "## 2.2 Question\n",
    "- **One pure line of peas that had purple flowers and long pollen grains was crossed with another pure line that had red flowers and round pollen grains. The first generation was then self-crossed. If these two genes are inherited independently, a 9:3:3:1 ratio would be expected.**"
   ]
  },
  {
   "cell_type": "markdown",
   "metadata": {},
   "source": [
    "- **Test the null hypothesis that the ratio is 9:3:3:1.**"
   ]
  },
  {
   "cell_type": "markdown",
   "metadata": {},
   "source": [
    "**H0: P(Purple and long) = 9/16, P(Purple and round) = 3/16, \n",
    "P(Red and long) = 3/16, P(Red and round) = 1/16**\n",
    "\n",
    "**Ha: True ratio of phenotypes is not 9:3:3:1.**"
   ]
  },
  {
   "cell_type": "markdown",
   "metadata": {},
   "source": [
    "| Phenotype | Purple/Long | Purple/Round | Red/Long | Red/Round|\n",
    "| --- | ---  | --- | --- | --- |\n",
    "| Observed | 284 | 21 | 21 | 55 |\n",
    "|Expected | 214.3125 | 71.4375 | 71.4375 | 23.8125 |"
   ]
  },
  {
   "cell_type": "code",
   "execution_count": 5,
   "metadata": {},
   "outputs": [
    {
     "name": "stdout",
     "output_type": "stream",
     "text": [
      "381.0\n",
      "[214.3125, 71.4375, 71.4375, 23.8125]\n"
     ]
    }
   ],
   "source": [
    "observed_phenotype = [284, 21, 21, 55]\n",
    "expected_phenotype = [9/16*381, 3/16*381, 3/16*381, 1/16*381]\n",
    "\n",
    "# The sum of the expected values will always be the same as \n",
    "# the sum of the observed values.\n",
    "print(sum(expected_phenotype))\n",
    "print(expected_phenotype)"
   ]
  },
  {
   "cell_type": "code",
   "execution_count": 6,
   "metadata": {},
   "outputs": [
    {
     "data": {
      "text/plain": [
       "Power_divergenceResult(statistic=134.72820064158648, pvalue=nan)"
      ]
     },
     "execution_count": 6,
     "metadata": {},
     "output_type": "execute_result"
    }
   ],
   "source": [
    "from scipy.stats import chisquare\n",
    "chisquare(f_obs = observed_phenotype, f_exp = expected_phenotype, \n",
    "          ddof = len(expected_phenotype) - 1, axis = 0)"
   ]
  },
  {
   "cell_type": "code",
   "execution_count": 7,
   "metadata": {},
   "outputs": [
    {
     "name": "stdout",
     "output_type": "stream",
     "text": [
      "p-value is 0.0.\n",
      "There is a very strong evidence that these phenotypes do not occur in a 9:3:3:1 ratio.\n"
     ]
    }
   ],
   "source": [
    "# Notice the p-value returned by the chisquare is 'nan'\n",
    "print('p-value is {}.'.format(1 - chi2.cdf(134.72820064158648, df = len(expected_phenotype) - 1)))\n",
    "print('There is a very strong evidence that these phenotypes do not occur in a 9:3:3:1 ratio.')"
   ]
  },
  {
   "cell_type": "markdown",
   "metadata": {},
   "source": [
    "# 3. Two sample test - for two population variances"
   ]
  },
  {
   "cell_type": "markdown",
   "metadata": {},
   "source": [
    "## 3.1 Formulas "
   ]
  },
  {
   "cell_type": "markdown",
   "metadata": {},
   "source": [
    "**Suppose X1 to Xn is a random sample of size n from a normal population with mean (mu_X) and variance (sigma_X).\n",
    "And, suppose, independent of the first sample, Y1 to Ym is another random sample of size m from a normal population with mean (mu_Y) and variance (sigma_Y).**\n",
    "\n",
    "**In this situation, that:**"
   ]
  },
  {
   "cell_type": "markdown",
   "metadata": {},
   "source": [
    "$$ \\frac {(n-1)S_X^2} {\\sigma_X^2} $$ "
   ]
  },
  {
   "cell_type": "markdown",
   "metadata": {},
   "source": [
    "$$and$$"
   ]
  },
  {
   "cell_type": "markdown",
   "metadata": {},
   "source": [
    "$$ \\frac {(m-1)S_Y^2} {\\sigma_Y^2} $$ "
   ]
  },
  {
   "cell_type": "markdown",
   "metadata": {},
   "source": [
    "**have independent chi-square distributions with n−1 and m−1 degrees of freedom, respectively. Therefore:**"
   ]
  },
  {
   "cell_type": "markdown",
   "metadata": {},
   "source": [
    "$$ F = \\frac {\\frac {(n-1)S_X^2} {\\sigma_X^2} \\frac {1} {(n-1)}} \n",
    "{\\frac {(m-1)S_Y^2} {\\sigma_Y^2} \\frac {1} {m-1} } =  \\frac {S_X^2} {S_Y^2} \\frac {\\sigma_Y^2} {\n",
    "\\sigma_X^2}$$"
   ]
  },
  {
   "cell_type": "markdown",
   "metadata": {},
   "source": [
    "**follows an F distribution with  n−1 numerator degrees of freedom and m−1 denominator degrees of freedom.**"
   ]
  },
  {
   "cell_type": "markdown",
   "metadata": {},
   "source": [
    "## 3.2 Question"
   ]
  },
  {
   "cell_type": "markdown",
   "metadata": {},
   "source": [
    "- **A psychologist was interested in exploring whether or not male and female college students have different driving behaviors. The particular statistical question she framed was as follows:**"
   ]
  },
  {
   "cell_type": "markdown",
   "metadata": {},
   "source": [
    "| Males(X) | Females (Y) |\n",
    "| --- | --- |\n",
    "| n = 34 | m = 29 |\n",
    "| mean(x) = 105.5 | mean(y) = 90.9 |\n",
    "| std(x) = 20.1 | std(y) = 12.2 |"
   ]
  },
  {
   "cell_type": "markdown",
   "metadata": {},
   "source": [
    "- **Is there sufficient evidence at the α = 0.05 level to conclude that the variance of the fastest speed driven by male college students differs from the variance of the fastest speed driven by female college students?**"
   ]
  },
  {
   "cell_type": "markdown",
   "metadata": {},
   "source": [
    "- **Construct a 95% confidence interval for the estimator.**"
   ]
  },
  {
   "cell_type": "markdown",
   "metadata": {},
   "source": [
    "$$H_0: \\sigma_X^2 = \\sigma_Y^2$$"
   ]
  },
  {
   "cell_type": "markdown",
   "metadata": {},
   "source": [
    "$$H_1: \\sigma_X^2 \\neq \\sigma_Y^2$$"
   ]
  },
  {
   "cell_type": "markdown",
   "metadata": {},
   "source": [
    "$$F = \\frac {s_1^2} {s_2^2}$$"
   ]
  },
  {
   "cell_type": "markdown",
   "metadata": {},
   "source": [
    "$$d.f. = n_1 - 1, n_2 - 1$$"
   ]
  },
  {
   "cell_type": "markdown",
   "metadata": {},
   "source": [
    "$$C.I. = (\\frac {1}{F_\\frac{\\alpha}{2}} \\frac {s_1^2}{s_2^2}, \\frac {1}{F_{1-\\frac{\\alpha}{2}}} \\frac {s_1^2}{s_2^2})$$"
   ]
  },
  {
   "cell_type": "code",
   "execution_count": 8,
   "metadata": {},
   "outputs": [],
   "source": [
    "# Helper function of f testing for comparing two population variances\n",
    "from scipy.stats import f\n",
    "def f_test_two_p_variance(var1, var2, n1, n2, alpha_level):\n",
    "    '''\n",
    "    Perform the F-test for comparing variances between two populations.\n",
    "    \n",
    "    var1: the variance of the population 1\n",
    "    var2: the variance of the population 2\n",
    "    n1: the sample size of the population 1\n",
    "    n2: the sample size of the population 2\n",
    "    alpha_level: can be either 0.1, 0.05, or 0.1\n",
    "    \n",
    "    Outputs: F ratio, p-value, and confidence intervals given an alpha level.\n",
    "    '''\n",
    "    \n",
    "    # F test statistic\n",
    "    F_ratio = var1 / var2\n",
    "    \n",
    "    # p-value (usually the interest is to compare whether two variances are equal\n",
    "    p_value = min(1 - f.cdf(x = F_ratio, dfn = n1-1, dfd = n2-1),\n",
    "                  f.cdf(x = F_ratio, dfn = n1-1, dfd = n2-1))\n",
    "    p_value = p_value * 2\n",
    "    \n",
    "    # 95% C.I.\n",
    "    upper = 1 / (f.ppf(alpha_level/2, n1-1, n2-1)) * F_ratio\n",
    "    lower = 1 / (f.ppf(1 - (alpha_level/2), n1-1, n2-1)) * F_ratio\n",
    "    \n",
    "    # Outputs\n",
    "    return F_ratio, p_value, (lower, upper)"
   ]
  },
  {
   "cell_type": "code",
   "execution_count": 9,
   "metadata": {},
   "outputs": [],
   "source": [
    "alpha_level = 0.05\n",
    "F_test_statistic, p_value, CI = f_test_two_p_variance(var1 = 20.1**2, var2 = 12.2**2, n1 = 34, n2 = 29, alpha_level = 0.05)"
   ]
  },
  {
   "cell_type": "code",
   "execution_count": 10,
   "metadata": {},
   "outputs": [
    {
     "name": "stdout",
     "output_type": "stream",
     "text": [
      "There is a strong evidence that the variance of the fastest speed driven by male college students differs\n",
      "from the variance of the fastest speed driven by female college students.\n",
      "F test statistic is 2.7144.\n",
      "The corresponding p-value is 0.0086.\n",
      "The 95% C.I. is [1.2994 5.5484].\n"
     ]
    }
   ],
   "source": [
    "if p_value < alpha_level:\n",
    "    print('There is a strong evidence that the variance of the fastest speed driven by male college students differs\\nfrom the variance of the fastest speed driven by female college students.')\n",
    "    print('F test statistic is {}.'.format(round(F_test_statistic,4 )))\n",
    "    print('The corresponding p-value is {}.'.format(round(p_value, 4)))\n",
    "    print('The 95% C.I. is [{} {}].'.format(round(CI[0],4), round(CI[1],4)))\n",
    "else:\n",
    "    print(\"We don't have a strong evidence that the variance of the fastest speed driven by male college students differs\\nfrom the variance of the fastest speed driven by female college students.\")\n",
    "    print('F test statistic is {}.'.format(round(F_test_statistic,4 )))\n",
    "    print('The corresponding p-value is {}.'.format(round(p_value, 4)))\n",
    "    print('The 95% C.I. is [{} {}].'.format(round(CI[0],4), round(CI[1],4)))"
   ]
  },
  {
   "cell_type": "markdown",
   "metadata": {},
   "source": [
    "# 4. Chi-square test - for two way tables (independence test)"
   ]
  },
  {
   "cell_type": "markdown",
   "metadata": {},
   "source": [
    "## 4.1 Formula"
   ]
  },
  {
   "cell_type": "markdown",
   "metadata": {},
   "source": [
    "$$ \\chi^2 = \\sum_{i=1}^{n} \\frac {(Observed_i - Expected_i)^2} {Expected_i}$$"
   ]
  },
  {
   "cell_type": "markdown",
   "metadata": {},
   "source": [
    "**d.f. = (number of rows - 1) * (number of columns - 1)**"
   ]
  },
  {
   "cell_type": "markdown",
   "metadata": {},
   "source": [
    "**Expected count = (row total * column total) / overall total**"
   ]
  },
  {
   "cell_type": "markdown",
   "metadata": {},
   "source": [
    "## 4.2 Question"
   ]
  },
  {
   "cell_type": "markdown",
   "metadata": {},
   "source": [
    "- **A study of 11,160 alcohol drinkers on university campuses revealed:**"
   ]
  },
  {
   "cell_type": "markdown",
   "metadata": {},
   "source": [
    "| - | - | Binge Drinking | - |\n",
    "| -- | -- | -- | -- |\n",
    "| - | Never | Occasional | Frequent |\n",
    "| Trouble with police | 71 | 154 | 398 |\n",
    "| No trouble with police | 4992 | 2808 | 2737 |"
   ]
  },
  {
   "cell_type": "markdown",
   "metadata": {},
   "source": [
    "- **Test the null hypothesis that binge drinking and trouble with police are independent variables.**"
   ]
  },
  {
   "cell_type": "markdown",
   "metadata": {},
   "source": [
    "**H0: Binge drinking and trouble with police are independent variables.**\n",
    "\n",
    "**Ha: They are not independent.**"
   ]
  },
  {
   "cell_type": "code",
   "execution_count": 11,
   "metadata": {},
   "outputs": [
    {
     "data": {
      "text/plain": [
       "(469.5949136516296,\n",
       " 1.0684645945577432e-102,\n",
       " 2,\n",
       " array([[ 282.63879928,  165.35179211,  175.0094086 ],\n",
       "        [4780.36120072, 2796.64820789, 2959.9905914 ]]))"
      ]
     },
     "execution_count": 11,
     "metadata": {},
     "output_type": "execute_result"
    }
   ],
   "source": [
    "from scipy.stats import chi2_contingency\n",
    "observed_values = [[71,154,398],\n",
    "                   [4992,2808,2737]\n",
    "                  ]\n",
    "chi_test_statistic, p_value, df, expected_values = chi2_contingency(observed_values)\n",
    "chi_test_statistic, p_value, df, expected_values"
   ]
  },
  {
   "cell_type": "code",
   "execution_count": 13,
   "metadata": {},
   "outputs": [
    {
     "name": "stdout",
     "output_type": "stream",
     "text": [
      "There is a strong evidence that binge drinking and trouble with police are not independent variables.\n",
      "Chi test statistic is 469.5949.\n",
      "The corresponding p-value is 0.0.\n"
     ]
    }
   ],
   "source": [
    "alpha_level = 0.05\n",
    "if p_value < alpha_level:\n",
    "    print(\"There is a strong evidence that binge drinking and trouble with police are not independent variables.\")\n",
    "    print('Chi test statistic is {}.'.format(round(chi_test_statistic,4 )))\n",
    "    print('The corresponding p-value is {}.'.format(round(p_value, 4)))\n",
    "else:\n",
    "    print(\"We don't have a strong evidence that binge drinking and trouble with police are not independent variables.\")\n",
    "    print('Chi test statistic is {}.'.format(round(chi_test_statistic,4 )))\n",
    "    print('The corresponding p-value is {}.'.format(round(p_value, 4)))"
   ]
  },
  {
   "cell_type": "code",
   "execution_count": null,
   "metadata": {},
   "outputs": [],
   "source": []
  }
 ],
 "metadata": {
  "kernelspec": {
   "display_name": "Python 3",
   "language": "python",
   "name": "python3"
  },
  "language_info": {
   "codemirror_mode": {
    "name": "ipython",
    "version": 3
   },
   "file_extension": ".py",
   "mimetype": "text/x-python",
   "name": "python",
   "nbconvert_exporter": "python",
   "pygments_lexer": "ipython3",
   "version": "3.6.6"
  }
 },
 "nbformat": 4,
 "nbformat_minor": 2
}
