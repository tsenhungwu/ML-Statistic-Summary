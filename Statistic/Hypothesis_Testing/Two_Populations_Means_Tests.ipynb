{
 "cells": [
  {
   "cell_type": "markdown",
   "metadata": {},
   "source": [
    "# 1. The difference in two population means "
   ]
  },
  {
   "cell_type": "markdown",
   "metadata": {},
   "source": [
    "## 1.1 Assumptions\n",
    "- **Population variance is known. (Typically, we don't know the true population variance.)**"
   ]
  },
  {
   "cell_type": "markdown",
   "metadata": {},
   "source": [
    "## 1.2 Formulas"
   ]
  },
  {
   "cell_type": "markdown",
   "metadata": {},
   "source": [
    "$$SE(\\bar{X_1} - \\bar{X_2}) = \\sqrt{\\frac{s_1^2}{n_1} + \\frac{s_2^2} {n_2}} $$"
   ]
  },
  {
   "cell_type": "markdown",
   "metadata": {},
   "source": [
    "$$Z = \\frac{\\bar{x_1}-\\bar{x_2}}{SE}$$"
   ]
  },
  {
   "cell_type": "code",
   "execution_count": 1,
   "metadata": {},
   "outputs": [],
   "source": [
    "# Function of performing the test\n",
    "from scipy.stats import norm\n",
    "import numpy as np\n",
    "\n",
    "def mean_diff_two_p_Z(x1, x2, mudiff, sd1, sd2, n1, n2, side = 'two'):\n",
    "    '''\n",
    "    Outputs: Return z test-statistic and p-value \n",
    "    \n",
    "    Inputs:\n",
    "        x1: mean of the population 1\n",
    "        x2: mean of the population 2\n",
    "        mudiff: mean difference under the null hypothesis\n",
    "        sd1: standard deviation of the population 1\n",
    "        sd2: standard deviation of the population 2\n",
    "        n1: sample size of the population 1\n",
    "        n2: sample size of the population 2\n",
    "        side: can be either two tail or one tail (default is two tail)\n",
    "    '''\n",
    "    \n",
    "    # Hypothesis testing\n",
    "    standard_error = np.sqrt(sd1**2/n1 + sd2**2/n2)\n",
    "    z = ((x1 - x2) - mudiff)/standard_error\n",
    "    \n",
    "    # p-value given two tail or one tail\n",
    "    if side == 'two':\n",
    "        if z >= 0:\n",
    "            pval = 2*(1-norm.cdf(z))\n",
    "        elif z < 0:\n",
    "            pval = 2*norm.cdf(z)\n",
    "        \n",
    "    elif side == 'less':\n",
    "        pval = norm.cdf(z)\n",
    "        \n",
    "    elif side == 'larger':\n",
    "        pval = 1 - norm.cdf(z)\n",
    "    \n",
    "    # Final outputs\n",
    "    return round(z, 3), round(pval, 4)"
   ]
  },
  {
   "cell_type": "markdown",
   "metadata": {},
   "source": [
    "## 1.3 Sampling Distribution\n",
    "- **It follows a normal distribution regardless of the sample size, if sampling from normally distributed populations.**\n",
    "$$\\bar{X_1} - \\bar{X_2} \\sim N(\\mu_1 - \\mu_2, \\frac{\\sigma_1^2} {n_1} + \\frac{\\sigma_2^2} {n_2})$$"
   ]
  },
  {
   "cell_type": "markdown",
   "metadata": {},
   "source": [
    "## 1.4 Question \n",
    "- **Male heights are approximately normally distributed with mean = 177.7 cm, and std = 5.6 cm. Female heights are approximately normally distributed with mean = 163 cm, and std = 5.1 cm. If 20 males and 15 females are randomly selected, what is the probability of the average height of the males is at least 10 cm greater than the average height of the females?**"
   ]
  },
  {
   "cell_type": "markdown",
   "metadata": {},
   "source": [
    "$$H_0: \\mu_1 - \\mu_2 = 10$$"
   ]
  },
  {
   "cell_type": "markdown",
   "metadata": {},
   "source": [
    "$$H_0: \\mu_1 - \\mu_2 \\ge 10$$"
   ]
  },
  {
   "cell_type": "code",
   "execution_count": 2,
   "metadata": {},
   "outputs": [
    {
     "data": {
      "text/plain": [
       "(2.586, 0.0048)"
      ]
     },
     "execution_count": 2,
     "metadata": {},
     "output_type": "execute_result"
    }
   ],
   "source": [
    "# Followed by the description of the question, filled in the parameters\n",
    "mean_diff_two_p_Z(x1 = 177.7, x2 = 163, mudiff = 10, \n",
    "                  sd1 = 5.6, sd2 = 5.1,\n",
    "                  n1 = 20, n2 = 15,\n",
    "                  side = 'larger')"
   ]
  },
  {
   "cell_type": "markdown",
   "metadata": {},
   "source": [
    "# 2. The difference in two population means － Pooled-Variance T Tests"
   ]
  },
  {
   "cell_type": "markdown",
   "metadata": {},
   "source": [
    "## 2.1 Assumptions\n",
    "- Independent simple random samples.\n",
    "- Normally distributed populations. (Or, as long as the sample size is large according to the CLT.)\n",
    "- Equal population variances."
   ]
  },
  {
   "cell_type": "markdown",
   "metadata": {},
   "source": [
    "## 2.2 Formulas "
   ]
  },
  {
   "cell_type": "markdown",
   "metadata": {},
   "source": [
    "$$S_p^2 = \\frac {(n_1 - 1)s_1^2 + (n_2 - 1)s_2^2} {n_1 + n_2 - 2}$$"
   ]
  },
  {
   "cell_type": "markdown",
   "metadata": {},
   "source": [
    "$$SE(\\bar{X_1} - \\bar{X_2}) = S_p \\sqrt{\\frac{1}{n_1} + \\frac{1}{n_2}}$$"
   ]
  },
  {
   "cell_type": "markdown",
   "metadata": {},
   "source": [
    "$$T = \\frac{\\bar{x_1}-\\bar{x_2}}{SE}$$"
   ]
  },
  {
   "cell_type": "markdown",
   "metadata": {},
   "source": [
    "$$d.f. = n_1+n_2-2$$"
   ]
  },
  {
   "cell_type": "code",
   "execution_count": 3,
   "metadata": {},
   "outputs": [],
   "source": [
    "from scipy import stats\n",
    "np.random.seed(0)\n",
    "\n",
    "rvs1 = stats.norm.rvs(loc=9.76, scale=4.9, size=49)\n",
    "rvs2 = stats.norm.rvs(loc=6.48, scale=3.49, size=70)"
   ]
  },
  {
   "cell_type": "code",
   "execution_count": 4,
   "metadata": {},
   "outputs": [
    {
     "data": {
      "text/plain": [
       "(10.484070389586886, 6.866417734163768)"
      ]
     },
     "execution_count": 4,
     "metadata": {},
     "output_type": "execute_result"
    }
   ],
   "source": [
    "np.mean(rvs1), np.mean(rvs2)"
   ]
  },
  {
   "cell_type": "code",
   "execution_count": 5,
   "metadata": {},
   "outputs": [
    {
     "data": {
      "text/plain": [
       "(5.623124706841221, 3.4442366887484837)"
      ]
     },
     "execution_count": 5,
     "metadata": {},
     "output_type": "execute_result"
    }
   ],
   "source": [
    "np.std(rvs1, ddof=1), np.std(rvs2, ddof = 1)"
   ]
  },
  {
   "cell_type": "code",
   "execution_count": 6,
   "metadata": {},
   "outputs": [
    {
     "data": {
      "text/plain": [
       "Ttest_indResult(statistic=4.346423198139746, pvalue=2.9666761608266247e-05)"
      ]
     },
     "execution_count": 6,
     "metadata": {},
     "output_type": "execute_result"
    }
   ],
   "source": [
    "# P-value is computed as two-tails by default\n",
    "stats.ttest_ind(rvs1, rvs2, equal_var=True)"
   ]
  },
  {
   "cell_type": "code",
   "execution_count": 7,
   "metadata": {},
   "outputs": [],
   "source": [
    "# Since the stats.ttest_ind requires two arrays as inputs, \n",
    "# I created a function doing tasks that don't require arrays as inputs\n",
    "from scipy.stats import t\n",
    "def mean_diff_two_p_t(x1, x2, mudiff, sd1, sd2, n1, n2, side = 'two'):\n",
    "    '''\n",
    "    Outputs: Return t test-statistic and p-value \n",
    "    \n",
    "    Inputs:\n",
    "        x1: mean of the population 1\n",
    "        x2: mean of the population 2\n",
    "        mudiff: mean under the null hypothesis\n",
    "        sd1: standard deviation of the population 1\n",
    "        sd2: standard deviation of the population 2\n",
    "        n1: sample size of the population 1\n",
    "        n2: sample size of the population 2\n",
    "        side: can be either two tail or one tail \n",
    "    '''\n",
    "    \n",
    "    # Hypothesis testing\n",
    "    pooled_variance = ((n1-1)*sd1**2 + (n2-1)*sd2**2) / (n1+n2-2)\n",
    "    standard_error = np.sqrt(pooled_variance) * np.sqrt((1/n1) + (1/n2))\n",
    "    t_stat = ((x1 - x2) - mudiff)/standard_error\n",
    "    \n",
    "    # p-value computation given two tails or one tail\n",
    "    if side == 'two':\n",
    "        if t_stat >= 0:\n",
    "            pval = 2*(1-t.cdf(x = t_stat, df = n1+n2-2))\n",
    "        elif t_stat < 0:\n",
    "            pval = 2*t.cdf(x = t_stat, df = n1+n2-2)\n",
    "        \n",
    "    elif side == 'less':\n",
    "        pval = t.cdf(x = t_stat, df = n1+n2-2)\n",
    "        \n",
    "    elif side == 'larger':\n",
    "        pval = 1 - t.cdf(x = t_stat, df = n1+n2-2)\n",
    "    \n",
    "    # Final outputs\n",
    "    return round(t_stat, 3), pval"
   ]
  },
  {
   "cell_type": "code",
   "execution_count": 8,
   "metadata": {},
   "outputs": [
    {
     "data": {
      "text/plain": [
       "(4.346, 2.9666761608204695e-05)"
      ]
     },
     "execution_count": 8,
     "metadata": {},
     "output_type": "execute_result"
    }
   ],
   "source": [
    "# Compare the results between using the function and the scipy package\n",
    "mean_diff_two_p_t(x1 = 10.484070389586886, x2 = 6.866417734163768, mudiff = 0, \n",
    "                  sd1 = 5.623124706841221, sd2 = 3.4442366887484837, \n",
    "                  n1 = 49, n2 = 70,\n",
    "                 side = 'two')"
   ]
  },
  {
   "cell_type": "markdown",
   "metadata": {},
   "source": [
    "## 2.3 Question\n",
    "- **The Morel Emotional Numbing Test (MENT) was designed as a diagnostic tool to help differentiate between those who truly had PTSD and those who were malingering. 49 from the group of seeking compensation has the mean score = 9.76 and std = 4.9. 70 from the group of seeking treatment has the mean score = 6.48 and std = 3.49.**"
   ]
  },
  {
   "cell_type": "markdown",
   "metadata": {},
   "source": [
    "- **Test the null hypothesis that the populations have equal mean scores on the MENT.**"
   ]
  },
  {
   "cell_type": "markdown",
   "metadata": {},
   "source": [
    "$$H_0: \\mu_1 = \\mu_2$$"
   ]
  },
  {
   "cell_type": "markdown",
   "metadata": {},
   "source": [
    "$$H_a: \\mu_1 \\neq \\mu_2$$"
   ]
  },
  {
   "cell_type": "code",
   "execution_count": 9,
   "metadata": {},
   "outputs": [
    {
     "data": {
      "text/plain": [
       "(4.267, 4.047130771600571e-05)"
      ]
     },
     "execution_count": 9,
     "metadata": {},
     "output_type": "execute_result"
    }
   ],
   "source": [
    "# The p-value is pretty small so that we should reject the null hypothesis that \n",
    "# the two populations have equal mean scores on the MENT.\n",
    "mean_diff_two_p_t(x1 = 9.76, x2 = 6.48, mudiff = 0, \n",
    "                  sd1 = 4.9, sd2 = 3.49, \n",
    "                  n1 = 49, n2 = 70,\n",
    "                 side = 'two')"
   ]
  },
  {
   "cell_type": "markdown",
   "metadata": {},
   "source": [
    "- **Construct a 95% confidence interval for the population difference (mu1 - mu2).**"
   ]
  },
  {
   "cell_type": "markdown",
   "metadata": {},
   "source": [
    "$$(\\bar{x_1} - \\bar{x_2}) \\pm t_\\frac{\\alpha}{2} * SE(\\bar{x_1}-\\bar{x_2})$$"
   ]
  },
  {
   "cell_type": "code",
   "execution_count": 10,
   "metadata": {},
   "outputs": [],
   "source": [
    "def mean_diff_two_p_t(x1, x2, mudiff, sd1, sd2, n1, n2, confidence_alpha, side = 'two'):\n",
    "    '''\n",
    "    Outputs: Return t test-statistic, p-value, and confidence intervals of the estimator\n",
    "    \n",
    "    Inputs:\n",
    "        x1: mean of the population 1\n",
    "        x2: mean of the population 2\n",
    "        mudiff: mean under the null hypothesis\n",
    "        sd1: standard deviation of the population 1\n",
    "        sd2: standard deviation of the population 2\n",
    "        n1: sample size of the population 1\n",
    "        n2: sample size of the population 2\n",
    "        confidence_alpha: usually 0.95\n",
    "        side: can be either two tail or one tail\n",
    "    '''\n",
    "    \n",
    "    # Hypothesis testing\n",
    "    pooled_variance = ((n1-1)*sd1**2 + (n2-1)*sd2**2) / (n1+n2-2)\n",
    "    standard_error = np.sqrt(pooled_variance) * np.sqrt((1/n1) + (1/n2))\n",
    "    t_stat = ((x1 - x2) - mudiff)/standard_error\n",
    "    \n",
    "    # p-value computation given two tails or one tail\n",
    "    if side == 'two':\n",
    "        if t_stat >= 0:\n",
    "            pval = 2*(1-t.cdf(x = t_stat, df = n1+n2-2))\n",
    "        elif t_stat < 0:\n",
    "            pval = 2*t.cdf(x = t_stat, df = n1+n2-2)\n",
    "        \n",
    "    elif side == 'less':\n",
    "        pval = t.cdf(x = t_stat, df = n1+n2-2)\n",
    "        \n",
    "    elif side == 'larger':\n",
    "        pval = 1 - t.cdf(x = t_stat, df = n1+n2-2)\n",
    "    \n",
    "    # Confidence intervals\n",
    "    population_difference = x1 - x2 \n",
    "    t_quantile = t.ppf(q = (1 - confidence_alpha)/2, df = n1+n2-2)\n",
    "    margin_error = t_quantile*standard_error\n",
    "    upper_confidence = population_difference + margin_error\n",
    "    lower_confidence = population_difference - margin_error\n",
    "    \n",
    "    # Final outputs\n",
    "    return round(t_stat, 3), pval, (upper_confidence, lower_confidence)"
   ]
  },
  {
   "cell_type": "code",
   "execution_count": 11,
   "metadata": {},
   "outputs": [
    {
     "data": {
      "text/plain": [
       "(4.267, 4.047130771600571e-05, (1.7575594214519823, 4.802440578548016))"
      ]
     },
     "execution_count": 11,
     "metadata": {},
     "output_type": "execute_result"
    }
   ],
   "source": [
    "mean_diff_two_p_t(x1 = 9.76, x2 = 6.48, mudiff = 0, \n",
    "                  sd1 = 4.9, sd2 = 3.49, \n",
    "                  n1 = 49, n2 = 70,\n",
    "                 side = 'two', confidence_alpha = 0.95)"
   ]
  },
  {
   "cell_type": "markdown",
   "metadata": {},
   "source": [
    "# 3. The difference in two population means － Unpooled-Variance T Tests"
   ]
  },
  {
   "cell_type": "markdown",
   "metadata": {},
   "source": [
    "## 3.1 Assumptions\n",
    "- Independent simple random samples.\n",
    "- Normally distributed populations. (Or, as long as the sample size is large according to the CLT.)\n",
    "- Do not assume equal variances."
   ]
  },
  {
   "cell_type": "markdown",
   "metadata": {},
   "source": [
    "## 3.2 Formulas"
   ]
  },
  {
   "cell_type": "markdown",
   "metadata": {},
   "source": [
    "$$SE(\\bar{X_1} - \\bar{X_2}) = \\sqrt{\\frac{s_1^2}{n_1} + \\frac{s_2^2} {n_2}} $$"
   ]
  },
  {
   "cell_type": "markdown",
   "metadata": {},
   "source": [
    "$$T = \\frac{\\bar{x_1}-\\bar{x_2}}{SE}$$"
   ]
  },
  {
   "cell_type": "markdown",
   "metadata": {},
   "source": [
    "$$d.f. = \\frac {(\\frac{s_1^2}{n_1} + \\frac{s_2^2} {n_2})^2} \n",
    "{ \\frac {1}{n_1-1} (\\frac {s_1^2}{n_1})^2 + \\frac {1} {n_2-1} (\\frac {s_2^2}{n_2})^2 }$$"
   ]
  },
  {
   "cell_type": "markdown",
   "metadata": {},
   "source": [
    "$$T = \\frac{\\bar{x_1}-\\bar{x_2}}{SE}$$"
   ]
  },
  {
   "cell_type": "markdown",
   "metadata": {},
   "source": [
    "## 3.3 Question \n",
    "- **Does a certain rattlesnake antivenom given after a rattlesnake bite have an effect on swelling? Researchers ran an experiment to investigate this problem by randomly assigning pigs to one of two groups. A treatment group, which received an antivenom. A placebo group, which received a saline solution. Changes in leg volume after 8 hours of receiving either an antivenom or a saline solution has been measured and recorded.**"
   ]
  },
  {
   "cell_type": "markdown",
   "metadata": {},
   "source": [
    "- **Antivenom group has the mean = 203.33, std = 56.18, and sample size = 9. Saline group has the mean = 201.25, std = 112.62, and sample size = 8.**"
   ]
  },
  {
   "cell_type": "markdown",
   "metadata": {},
   "source": [
    "- **(1) Test the null hypothesis that the populations have equal mean change in leg volume.**"
   ]
  },
  {
   "cell_type": "markdown",
   "metadata": {},
   "source": [
    "$$H_0: \\mu_1 = \\mu_2$$"
   ]
  },
  {
   "cell_type": "markdown",
   "metadata": {},
   "source": [
    "$$H_a: \\mu_1 \\neq \\mu_2$$"
   ]
  },
  {
   "cell_type": "markdown",
   "metadata": {},
   "source": [
    "- **(2) Construct a 95% confidence interval for the population difference (mu1 - mu2).**"
   ]
  },
  {
   "cell_type": "code",
   "execution_count": 12,
   "metadata": {},
   "outputs": [],
   "source": [
    "# Final version of the mean_diff_two_p_t function\n",
    "def mean_diff_two_p_t(x1, x2, mudiff, sd1, sd2, n1, n2, equal_var, confidence_alpha, side = 'two'):\n",
    "    '''\n",
    "    Outputs: Return t test-statistic, p-value, and confidence intervals of the estimator\n",
    "    \n",
    "    Inputs:\n",
    "        x1: mean of the population 1\n",
    "        x2: mean of the population 2\n",
    "        mudiff: mean under the null hypothesis\n",
    "        sd1: standard deviation of the population 1\n",
    "        sd2: standard deviation of the population 2\n",
    "        n1: sample size of the population 1\n",
    "        n2: sample size of the population 2\n",
    "        equal_var: equal varaince assumption (either False or True)\n",
    "        confidence_alpha: usually 0.95\n",
    "        side: can be either two tail or one tail\n",
    "    '''\n",
    "    \n",
    "    # Hypothesis testing (unequal VS equal variance)\n",
    "    if equal_var == True:\n",
    "        pooled_variance = ((n1-1)*sd1**2 + (n2-1)*sd2**2) / (n1+n2-2)\n",
    "        standard_error = np.sqrt(pooled_variance) * np.sqrt((1/n1) + (1/n2))\n",
    "        t_stat = ((x1 - x2) - mudiff)/standard_error\n",
    "        equal_df = n1+n2-2\n",
    "        \n",
    "    elif equal_var == False:\n",
    "        standard_error = np.sqrt((sd1**2 / n1) + (sd2**2 / n2))\n",
    "        t_stat = ((x1 - x2) - mudiff)/standard_error\n",
    "        unequal_df = (( (sd1**2 / n1) + (sd2**2 / n2) ) ** 2) / ( (1/(n1-1))*(((sd1**2)/n1)**2) + (1/(n2-1))*(((sd2**2)/n2)**2) ) \n",
    "    \n",
    "    # p-value (equal variance case)\n",
    "    if (equal_var == True) and (side == 'two'):\n",
    "        if t_stat >= 0:\n",
    "            pval = 2*(1-t.cdf(x = t_stat, df = equal_df))\n",
    "        elif t_stat < 0:\n",
    "            pval = 2*t.cdf(x = t_stat, df = equal_df)\n",
    "        \n",
    "    elif (equal_var == True) and (side == 'less'):\n",
    "        pval = t.cdf(x = t_stat, df = equal_df)\n",
    "        \n",
    "    elif (equal_var == True) and (side == 'larger'):\n",
    "        pval = 1 - t.cdf(x = t_stat, df = equal_df)\n",
    "        \n",
    "    # p-value (unequal variance case)\n",
    "    if (equal_var == False) and (side == 'two'):\n",
    "        if t_stat >= 0:\n",
    "            pval = 2*(1-t.cdf(x = t_stat, df = unequal_df))\n",
    "        elif t_stat < 0:\n",
    "            pval = 2*t.cdf(x = t_stat, df = unequal_df)\n",
    "        \n",
    "    elif (equal_var == True) and (side == 'less'):\n",
    "        pval = t.cdf(x = t_stat, df = unequal_df)\n",
    "        \n",
    "    elif (equal_var == True) and (side == 'larger'):\n",
    "        pval = 1 - t.cdf(x = t_stat, df = unequal_df)\n",
    "    \n",
    "\n",
    "    # Confidence intervals\n",
    "    population_difference = x1 - x2\n",
    "    \n",
    "    if equal_var == True:\n",
    "        t_quantile = t.ppf(q = (1 - confidence_alpha)/2, df = equal_df)\n",
    "    elif equal_var == False:\n",
    "        t_quantile = t.ppf(q = (1 - confidence_alpha)/2, df = unequal_df)\n",
    "\n",
    "    margin_error = t_quantile*standard_error\n",
    "    upper_confidence = population_difference + margin_error\n",
    "    lower_confidence = population_difference - margin_error\n",
    "    \n",
    "    # Final outputs\n",
    "    return round(t_stat, 3), pval, (upper_confidence, lower_confidence)"
   ]
  },
  {
   "cell_type": "code",
   "execution_count": 13,
   "metadata": {},
   "outputs": [
    {
     "data": {
      "text/plain": [
       "(0.047, 0.9632265708261047, (-95.94636525583655, 100.10636525583658))"
      ]
     },
     "execution_count": 13,
     "metadata": {},
     "output_type": "execute_result"
    }
   ],
   "source": [
    "# p-value is very high so that we should not reject the null hypothesis that\n",
    "# the populations have equal mean change in leg volume.\n",
    "mean_diff_two_p_t(\n",
    "    x1 = 203.33, x2 = 201.25, mudiff = 0, \n",
    "    sd1 = 56.18, sd2 = 112.62, \n",
    "    n1 = 9, n2 = 8,\n",
    "    equal_var = False, side = 'two', confidence_alpha = 0.95\n",
    ")"
   ]
  },
  {
   "cell_type": "code",
   "execution_count": null,
   "metadata": {},
   "outputs": [],
   "source": []
  }
 ],
 "metadata": {
  "kernelspec": {
   "display_name": "Python 3",
   "language": "python",
   "name": "python3"
  },
  "language_info": {
   "codemirror_mode": {
    "name": "ipython",
    "version": 3
   },
   "file_extension": ".py",
   "mimetype": "text/x-python",
   "name": "python",
   "nbconvert_exporter": "python",
   "pygments_lexer": "ipython3",
   "version": "3.6.6"
  }
 },
 "nbformat": 4,
 "nbformat_minor": 2
}
