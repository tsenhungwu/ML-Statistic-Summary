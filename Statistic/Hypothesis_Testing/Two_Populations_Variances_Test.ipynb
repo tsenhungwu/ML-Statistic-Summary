{
 "cells": [
  {
   "cell_type": "markdown",
   "metadata": {},
   "source": [
    "# 1. The ratio of comparing two variances of two populations"
   ]
  },
  {
   "cell_type": "markdown",
   "metadata": {},
   "source": [
    "## 1.1 Assumptions\n",
    "- Independent simple random samples.\n",
    "- Normally distributed populations. (A very important assumption even having a very large sample.)\n",
    "    - When normality assumption violated: go Levene's or Brown-forsythe test."
   ]
  },
  {
   "cell_type": "markdown",
   "metadata": {},
   "source": [
    "## 1.2 Formulas"
   ]
  },
  {
   "cell_type": "markdown",
   "metadata": {},
   "source": [
    "$$F = \\frac {s_1^2} {s_2^2}$$"
   ]
  },
  {
   "cell_type": "markdown",
   "metadata": {},
   "source": [
    "$$d.f. = n_1 - 1, n_2 - 1$$"
   ]
  },
  {
   "cell_type": "markdown",
   "metadata": {},
   "source": [
    "## 1.3 Question"
   ]
  },
  {
   "cell_type": "markdown",
   "metadata": {},
   "source": [
    "- **The ratio of the length of the second digit (index finger) to that of the fourth digit (ring finger), known as the 2D:4D ratio, is often studied by researchers. A study investigated possible differences in the 2D:4D ratio in children born to parents who were first cousins, and children born to parents who were not related.**\n",
    "- **Children born to parents who were first cousins has the variance of 2D:4D ratio = 0.00072 and the sample size = 122. Children born to parents who were not related has the variance of 2D:4D ratio = 0.00038 and the sample size = 142.**"
   ]
  },
  {
   "cell_type": "markdown",
   "metadata": {},
   "source": [
    "- **Test the null hypothesis that the two variances are equal.**"
   ]
  },
  {
   "cell_type": "markdown",
   "metadata": {},
   "source": [
    "$$H_0: \\sigma_1^2 = \\sigma_2^2$$"
   ]
  },
  {
   "cell_type": "markdown",
   "metadata": {},
   "source": [
    "$$H_1: \\sigma_1^2 \\neq \\sigma_2^2$$"
   ]
  },
  {
   "cell_type": "markdown",
   "metadata": {},
   "source": [
    "- **Construct a 95% confidence interval for the estimator.**"
   ]
  },
  {
   "cell_type": "markdown",
   "metadata": {},
   "source": [
    "$$C.I. = (\\frac {1}{F_\\frac{\\alpha}{2}} \\frac {s_1^2}{s_2^2}, \\frac {1}{F_{1-\\frac{\\alpha}{2}}} \\frac {s_1^2}{s_2^2})$$"
   ]
  },
  {
   "cell_type": "code",
   "execution_count": 1,
   "metadata": {},
   "outputs": [
    {
     "data": {
      "text/plain": [
       "0.0002695226754223512"
      ]
     },
     "execution_count": 1,
     "metadata": {},
     "output_type": "execute_result"
    }
   ],
   "source": [
    "# Reference: https://docs.scipy.org/doc/scipy/reference/generated/scipy.stats.f.html\n",
    "from scipy.stats import f\n",
    "\n",
    "F = 0.00072 / 0.00038\n",
    "p_value = (1 - f.cdf(F, 122-1, 142-1)) * 2\n",
    "p_value"
   ]
  },
  {
   "cell_type": "code",
   "execution_count": 2,
   "metadata": {},
   "outputs": [
    {
     "data": {
      "text/plain": [
       "(0.7065917265888972, 1.4087498360325232)"
      ]
     },
     "execution_count": 2,
     "metadata": {},
     "output_type": "execute_result"
    }
   ],
   "source": [
    "f.ppf(0.05/2, 122-1, 142-1), f.ppf(1 - (0.05/2), 122-1, 142-1)"
   ]
  },
  {
   "cell_type": "code",
   "execution_count": 3,
   "metadata": {},
   "outputs": [
    {
     "data": {
      "text/plain": [
       "(2.681515747788598, 1.3449775067526752)"
      ]
     },
     "execution_count": 3,
     "metadata": {},
     "output_type": "execute_result"
    }
   ],
   "source": [
    "# 95% C.I.\n",
    "(1 / 0.7065917265888972)*F, (1/1.4087498360325232)*F"
   ]
  },
  {
   "cell_type": "code",
   "execution_count": 4,
   "metadata": {},
   "outputs": [],
   "source": [
    "# Wrap all the desired outputs into a function\n",
    "def f_test_two_p_variance(var1, var2, n1, n2, alpha_level):\n",
    "    '''\n",
    "    Perform F-test for comparing variances between two populations.\n",
    "    Outputs: F ratio, p-value, and confidence intervals given an alpha level.\n",
    "    var1: the variance of the population 1\n",
    "    var2: the variance of the population 2\n",
    "    n1: sample size of the population 1\n",
    "    n2: sample size of the population 2\n",
    "    alpha_level: can be either 0.1, 0.05, or 0.1\n",
    "    '''\n",
    "    # F test statistic\n",
    "    F_ratio = var1 / var2\n",
    "    \n",
    "    # p-value (usually the interest is to compare whether two variances are equal\n",
    "    p_value = (1 - f.cdf(F, n1-1, n2-1)) * 2\n",
    "    \n",
    "    # 95% C.I.\n",
    "    upper = 1 / (f.ppf(alpha_level/2, n1-1, n2-1)) * F\n",
    "    lower = 1 / (f.ppf(1 - (alpha_level/2), n1-1, n2-1)) * F\n",
    "    \n",
    "    return F_ratio, p_value, (lower, upper)"
   ]
  },
  {
   "cell_type": "code",
   "execution_count": 5,
   "metadata": {},
   "outputs": [
    {
     "data": {
      "text/plain": [
       "(1.8947368421052633,\n",
       " 0.0002695226754223512,\n",
       " (1.3449775067526752, 2.681515747788598))"
      ]
     },
     "execution_count": 5,
     "metadata": {},
     "output_type": "execute_result"
    }
   ],
   "source": [
    "# Hypothesis testing: reject the null hypothesis that the two variances are equal (p-value is significant)\n",
    "# From the 95% C.I. the lower range is also above 1 (further reject the null hypothesis)\n",
    "f_test_two_p_variance(var1 = 0.00072, var2 = 0.00038,\n",
    "                      n1 = 122, n2 = 142,\n",
    "                      alpha_level = 0.05)"
   ]
  },
  {
   "cell_type": "code",
   "execution_count": null,
   "metadata": {},
   "outputs": [],
   "source": []
  }
 ],
 "metadata": {
  "kernelspec": {
   "display_name": "Python 3",
   "language": "python",
   "name": "python3"
  },
  "language_info": {
   "codemirror_mode": {
    "name": "ipython",
    "version": 3
   },
   "file_extension": ".py",
   "mimetype": "text/x-python",
   "name": "python",
   "nbconvert_exporter": "python",
   "pygments_lexer": "ipython3",
   "version": "3.6.6"
  }
 },
 "nbformat": 4,
 "nbformat_minor": 2
}
