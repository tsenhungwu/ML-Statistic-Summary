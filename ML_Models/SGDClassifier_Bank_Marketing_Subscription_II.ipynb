{
 "cells": [
  {
   "cell_type": "markdown",
   "metadata": {},
   "source": [
    "# Overall Workflow\n",
    "## 1. The Dataset\n",
    "## 2. Preprocessing Before Modeling\n",
    "## 3. Model Fitting\n",
    "## 4. Hyperparameter Tuning - SGD classifier\n",
    "## 5. Result comparison\n",
    "## 6. Summary"
   ]
  },
  {
   "cell_type": "markdown",
   "metadata": {},
   "source": [
    "# Packages"
   ]
  },
  {
   "cell_type": "code",
   "execution_count": 1,
   "metadata": {},
   "outputs": [],
   "source": [
    "# Data structures\n",
    "import numpy as np\n",
    "import pandas as pd\n",
    "\n",
    "# Data formats\n",
    "import csv\n",
    "import json\n",
    "\n",
    "# Visualizations\n",
    "import matplotlib.pyplot as plt\n",
    "import seaborn as sb\n",
    "\n",
    "# Statistical testings\n",
    "from scipy.stats import f\n",
    "from scipy.stats import ttest_ind\n",
    "from scipy.stats import chi2_contingency\n",
    "\n",
    "# Data preprocessing\n",
    "from sklearn.preprocessing import LabelEncoder\n",
    "from sklearn.preprocessing import StandardScaler\n",
    "from sklearn.model_selection import train_test_split\n",
    "\n",
    "# Machine learning algorithm\n",
    "from sklearn.linear_model import SGDClassifier\n",
    "\n",
    "# Hyperparameter tuning\n",
    "from hyperopt import hp\n",
    "from hyperopt import Trials\n",
    "from hyperopt import tpe\n",
    "from timeit import default_timer as timer\n",
    "from hyperopt import STATUS_OK\n",
    "from hyperopt import fmin\n",
    "\n",
    "# Model validation\n",
    "from sklearn.model_selection import cross_validate\n",
    "from sklearn.metrics import classification_report\n",
    "from sklearn.metrics import precision_score, accuracy_score, recall_score, f1_score, roc_auc_score, roc_curve, auc, confusion_matrix\n",
    "\n",
    "# Improvement\n",
    "from imblearn.over_sampling import SMOTE"
   ]
  },
  {
   "cell_type": "markdown",
   "metadata": {},
   "source": [
    "# 1. The Dataset"
   ]
  },
  {
   "cell_type": "code",
   "execution_count": 2,
   "metadata": {},
   "outputs": [
    {
     "data": {
      "text/html": [
       "<div>\n",
       "<style scoped>\n",
       "    .dataframe tbody tr th:only-of-type {\n",
       "        vertical-align: middle;\n",
       "    }\n",
       "\n",
       "    .dataframe tbody tr th {\n",
       "        vertical-align: top;\n",
       "    }\n",
       "\n",
       "    .dataframe thead th {\n",
       "        text-align: right;\n",
       "    }\n",
       "</style>\n",
       "<table border=\"1\" class=\"dataframe\">\n",
       "  <thead>\n",
       "    <tr style=\"text-align: right;\">\n",
       "      <th></th>\n",
       "      <th>age</th>\n",
       "      <th>job</th>\n",
       "      <th>marital</th>\n",
       "      <th>education</th>\n",
       "      <th>default</th>\n",
       "      <th>housing</th>\n",
       "      <th>loan</th>\n",
       "      <th>contact</th>\n",
       "      <th>month</th>\n",
       "      <th>day_of_week</th>\n",
       "      <th>...</th>\n",
       "      <th>campaign</th>\n",
       "      <th>pdays</th>\n",
       "      <th>previous</th>\n",
       "      <th>poutcome</th>\n",
       "      <th>emp_var_rate</th>\n",
       "      <th>cons_price_idx</th>\n",
       "      <th>cons_conf_idx</th>\n",
       "      <th>euribor3m</th>\n",
       "      <th>nr_employed</th>\n",
       "      <th>y</th>\n",
       "    </tr>\n",
       "  </thead>\n",
       "  <tbody>\n",
       "    <tr>\n",
       "      <th>0</th>\n",
       "      <td>44</td>\n",
       "      <td>blue-collar</td>\n",
       "      <td>married</td>\n",
       "      <td>basic.4y</td>\n",
       "      <td>unknown</td>\n",
       "      <td>yes</td>\n",
       "      <td>no</td>\n",
       "      <td>cellular</td>\n",
       "      <td>aug</td>\n",
       "      <td>thu</td>\n",
       "      <td>...</td>\n",
       "      <td>1</td>\n",
       "      <td>999</td>\n",
       "      <td>0</td>\n",
       "      <td>nonexistent</td>\n",
       "      <td>1.4</td>\n",
       "      <td>93.444</td>\n",
       "      <td>-36.1</td>\n",
       "      <td>4.963</td>\n",
       "      <td>5228.1</td>\n",
       "      <td>0</td>\n",
       "    </tr>\n",
       "    <tr>\n",
       "      <th>1</th>\n",
       "      <td>53</td>\n",
       "      <td>technician</td>\n",
       "      <td>married</td>\n",
       "      <td>unknown</td>\n",
       "      <td>no</td>\n",
       "      <td>no</td>\n",
       "      <td>no</td>\n",
       "      <td>cellular</td>\n",
       "      <td>nov</td>\n",
       "      <td>fri</td>\n",
       "      <td>...</td>\n",
       "      <td>1</td>\n",
       "      <td>999</td>\n",
       "      <td>0</td>\n",
       "      <td>nonexistent</td>\n",
       "      <td>-0.1</td>\n",
       "      <td>93.200</td>\n",
       "      <td>-42.0</td>\n",
       "      <td>4.021</td>\n",
       "      <td>5195.8</td>\n",
       "      <td>0</td>\n",
       "    </tr>\n",
       "    <tr>\n",
       "      <th>2</th>\n",
       "      <td>28</td>\n",
       "      <td>management</td>\n",
       "      <td>single</td>\n",
       "      <td>university.degree</td>\n",
       "      <td>no</td>\n",
       "      <td>yes</td>\n",
       "      <td>no</td>\n",
       "      <td>cellular</td>\n",
       "      <td>jun</td>\n",
       "      <td>thu</td>\n",
       "      <td>...</td>\n",
       "      <td>3</td>\n",
       "      <td>6</td>\n",
       "      <td>2</td>\n",
       "      <td>success</td>\n",
       "      <td>-1.7</td>\n",
       "      <td>94.055</td>\n",
       "      <td>-39.8</td>\n",
       "      <td>0.729</td>\n",
       "      <td>4991.6</td>\n",
       "      <td>1</td>\n",
       "    </tr>\n",
       "    <tr>\n",
       "      <th>3</th>\n",
       "      <td>39</td>\n",
       "      <td>services</td>\n",
       "      <td>married</td>\n",
       "      <td>high.school</td>\n",
       "      <td>no</td>\n",
       "      <td>no</td>\n",
       "      <td>no</td>\n",
       "      <td>cellular</td>\n",
       "      <td>apr</td>\n",
       "      <td>fri</td>\n",
       "      <td>...</td>\n",
       "      <td>2</td>\n",
       "      <td>999</td>\n",
       "      <td>0</td>\n",
       "      <td>nonexistent</td>\n",
       "      <td>-1.8</td>\n",
       "      <td>93.075</td>\n",
       "      <td>-47.1</td>\n",
       "      <td>1.405</td>\n",
       "      <td>5099.1</td>\n",
       "      <td>0</td>\n",
       "    </tr>\n",
       "    <tr>\n",
       "      <th>4</th>\n",
       "      <td>55</td>\n",
       "      <td>retired</td>\n",
       "      <td>married</td>\n",
       "      <td>basic.4y</td>\n",
       "      <td>no</td>\n",
       "      <td>yes</td>\n",
       "      <td>no</td>\n",
       "      <td>cellular</td>\n",
       "      <td>aug</td>\n",
       "      <td>fri</td>\n",
       "      <td>...</td>\n",
       "      <td>1</td>\n",
       "      <td>3</td>\n",
       "      <td>1</td>\n",
       "      <td>success</td>\n",
       "      <td>-2.9</td>\n",
       "      <td>92.201</td>\n",
       "      <td>-31.4</td>\n",
       "      <td>0.869</td>\n",
       "      <td>5076.2</td>\n",
       "      <td>1</td>\n",
       "    </tr>\n",
       "  </tbody>\n",
       "</table>\n",
       "<p>5 rows × 21 columns</p>\n",
       "</div>"
      ],
      "text/plain": [
       "   age          job  marital          education  default housing loan  \\\n",
       "0   44  blue-collar  married           basic.4y  unknown     yes   no   \n",
       "1   53   technician  married            unknown       no      no   no   \n",
       "2   28   management   single  university.degree       no     yes   no   \n",
       "3   39     services  married        high.school       no      no   no   \n",
       "4   55      retired  married           basic.4y       no     yes   no   \n",
       "\n",
       "    contact month day_of_week ...  campaign  pdays  previous     poutcome  \\\n",
       "0  cellular   aug         thu ...         1    999         0  nonexistent   \n",
       "1  cellular   nov         fri ...         1    999         0  nonexistent   \n",
       "2  cellular   jun         thu ...         3      6         2      success   \n",
       "3  cellular   apr         fri ...         2    999         0  nonexistent   \n",
       "4  cellular   aug         fri ...         1      3         1      success   \n",
       "\n",
       "  emp_var_rate  cons_price_idx  cons_conf_idx  euribor3m  nr_employed  y  \n",
       "0          1.4          93.444          -36.1      4.963       5228.1  0  \n",
       "1         -0.1          93.200          -42.0      4.021       5195.8  0  \n",
       "2         -1.7          94.055          -39.8      0.729       4991.6  1  \n",
       "3         -1.8          93.075          -47.1      1.405       5099.1  0  \n",
       "4         -2.9          92.201          -31.4      0.869       5076.2  1  \n",
       "\n",
       "[5 rows x 21 columns]"
      ]
     },
     "execution_count": 2,
     "metadata": {},
     "output_type": "execute_result"
    }
   ],
   "source": [
    "data = pd.read_csv('banking.csv')\n",
    "data.head()"
   ]
  },
  {
   "cell_type": "code",
   "execution_count": 3,
   "metadata": {},
   "outputs": [
    {
     "name": "stdout",
     "output_type": "stream",
     "text": [
      "(41188, 21)\n"
     ]
    }
   ],
   "source": [
    "# 41188 data points with 21 predictors\n",
    "print(data.shape)"
   ]
  },
  {
   "cell_type": "code",
   "execution_count": 4,
   "metadata": {},
   "outputs": [
    {
     "name": "stdout",
     "output_type": "stream",
     "text": [
      "(41188, 20)\n"
     ]
    }
   ],
   "source": [
    "# Since the purpose is to build a prediction model, I dropped this column from the feature space.\n",
    "data.drop(columns='duration', inplace=True)\n",
    "print(data.shape)"
   ]
  },
  {
   "cell_type": "markdown",
   "metadata": {},
   "source": [
    "# 2. Preprocessing Before Modeling\n",
    "- 2.1 One-hot encoding\n",
    "- 2.2 Dummy feature generation\n",
    "- 2.3 Improvement: Over-sampling using SMOTE\n",
    "- 2.4 Train & test splitting (80%/20%)\n",
    "- 2.5 Standardization\n",
    "    - Why standardization is needed? -> Regularization purpose."
   ]
  },
  {
   "cell_type": "markdown",
   "metadata": {},
   "source": [
    "## 2.1 One-hot encoding"
   ]
  },
  {
   "cell_type": "code",
   "execution_count": 5,
   "metadata": {},
   "outputs": [],
   "source": [
    "dummy_features = []\n",
    "binary_features = []\n",
    "for each in data.columns:\n",
    "    if data[each].dtype == 'object':\n",
    "        if len(data[each].unique()) > 2:\n",
    "            dummy_features.append(each)\n",
    "        else: \n",
    "            binary_features.append(each)"
   ]
  },
  {
   "cell_type": "code",
   "execution_count": 6,
   "metadata": {},
   "outputs": [
    {
     "name": "stdout",
     "output_type": "stream",
     "text": [
      "contact\n",
      "1 columns were label encoded.\n"
     ]
    }
   ],
   "source": [
    "# One-hot encoding for categorical features containing two levels\n",
    "le = LabelEncoder()\n",
    "le_count = 0\n",
    "\n",
    "for col in binary_features:\n",
    "    print(col)\n",
    "    le.fit(data[col])\n",
    "    data[col] = le.transform(data[col])\n",
    "            \n",
    "    # Keep track of how many columns were label encoded\n",
    "    le_count += 1\n",
    "            \n",
    "print('%d columns were label encoded.' % le_count)"
   ]
  },
  {
   "cell_type": "code",
   "execution_count": 7,
   "metadata": {},
   "outputs": [
    {
     "data": {
      "text/plain": [
       "array([0, 1])"
      ]
     },
     "execution_count": 7,
     "metadata": {},
     "output_type": "execute_result"
    }
   ],
   "source": [
    "# Make sure the transformation is correct!\n",
    "# 0: cellular\n",
    "# 1: telephone\n",
    "data['contact'].unique()"
   ]
  },
  {
   "cell_type": "markdown",
   "metadata": {},
   "source": [
    "## 2.2 Dummy feature generation"
   ]
  },
  {
   "cell_type": "code",
   "execution_count": 8,
   "metadata": {},
   "outputs": [
    {
     "name": "stdout",
     "output_type": "stream",
     "text": [
      "job 12\n",
      "marital 4\n",
      "education 8\n",
      "default 3\n",
      "housing 3\n",
      "loan 3\n",
      "month 10\n",
      "day_of_week 5\n",
      "poutcome 3\n",
      "42 columns will be additionally added.\n"
     ]
    }
   ],
   "source": [
    "# Create dummy features\n",
    "sum_len = 0\n",
    "for col in dummy_features:\n",
    "    sum_len += len(data[col].unique())\n",
    "    print(col, len(data[col].unique()))\n",
    "    \n",
    "print('{} columns will be additionally added.'.format(sum_len - len(dummy_features)))"
   ]
  },
  {
   "cell_type": "code",
   "execution_count": 9,
   "metadata": {},
   "outputs": [
    {
     "name": "stdout",
     "output_type": "stream",
     "text": [
      "(41188, 20)\n",
      "(41188, 62)\n"
     ]
    }
   ],
   "source": [
    "# Original dimension\n",
    "print(data.shape)\n",
    "\n",
    "# 20 + 42 = 62, correct dummy feature transformation!\n",
    "data = pd.get_dummies(data, columns = dummy_features)\n",
    "print(data.shape)"
   ]
  },
  {
   "cell_type": "code",
   "execution_count": 10,
   "metadata": {},
   "outputs": [
    {
     "data": {
      "text/html": [
       "<div>\n",
       "<style scoped>\n",
       "    .dataframe tbody tr th:only-of-type {\n",
       "        vertical-align: middle;\n",
       "    }\n",
       "\n",
       "    .dataframe tbody tr th {\n",
       "        vertical-align: top;\n",
       "    }\n",
       "\n",
       "    .dataframe thead th {\n",
       "        text-align: right;\n",
       "    }\n",
       "</style>\n",
       "<table border=\"1\" class=\"dataframe\">\n",
       "  <thead>\n",
       "    <tr style=\"text-align: right;\">\n",
       "      <th></th>\n",
       "      <th>age</th>\n",
       "      <th>contact</th>\n",
       "      <th>campaign</th>\n",
       "      <th>pdays</th>\n",
       "      <th>previous</th>\n",
       "      <th>emp_var_rate</th>\n",
       "      <th>cons_price_idx</th>\n",
       "      <th>cons_conf_idx</th>\n",
       "      <th>euribor3m</th>\n",
       "      <th>nr_employed</th>\n",
       "      <th>...</th>\n",
       "      <th>month_oct</th>\n",
       "      <th>month_sep</th>\n",
       "      <th>day_of_week_fri</th>\n",
       "      <th>day_of_week_mon</th>\n",
       "      <th>day_of_week_thu</th>\n",
       "      <th>day_of_week_tue</th>\n",
       "      <th>day_of_week_wed</th>\n",
       "      <th>poutcome_failure</th>\n",
       "      <th>poutcome_nonexistent</th>\n",
       "      <th>poutcome_success</th>\n",
       "    </tr>\n",
       "  </thead>\n",
       "  <tbody>\n",
       "    <tr>\n",
       "      <th>0</th>\n",
       "      <td>44</td>\n",
       "      <td>0</td>\n",
       "      <td>1</td>\n",
       "      <td>999</td>\n",
       "      <td>0</td>\n",
       "      <td>1.4</td>\n",
       "      <td>93.444</td>\n",
       "      <td>-36.1</td>\n",
       "      <td>4.963</td>\n",
       "      <td>5228.1</td>\n",
       "      <td>...</td>\n",
       "      <td>0</td>\n",
       "      <td>0</td>\n",
       "      <td>0</td>\n",
       "      <td>0</td>\n",
       "      <td>1</td>\n",
       "      <td>0</td>\n",
       "      <td>0</td>\n",
       "      <td>0</td>\n",
       "      <td>1</td>\n",
       "      <td>0</td>\n",
       "    </tr>\n",
       "    <tr>\n",
       "      <th>1</th>\n",
       "      <td>53</td>\n",
       "      <td>0</td>\n",
       "      <td>1</td>\n",
       "      <td>999</td>\n",
       "      <td>0</td>\n",
       "      <td>-0.1</td>\n",
       "      <td>93.200</td>\n",
       "      <td>-42.0</td>\n",
       "      <td>4.021</td>\n",
       "      <td>5195.8</td>\n",
       "      <td>...</td>\n",
       "      <td>0</td>\n",
       "      <td>0</td>\n",
       "      <td>1</td>\n",
       "      <td>0</td>\n",
       "      <td>0</td>\n",
       "      <td>0</td>\n",
       "      <td>0</td>\n",
       "      <td>0</td>\n",
       "      <td>1</td>\n",
       "      <td>0</td>\n",
       "    </tr>\n",
       "    <tr>\n",
       "      <th>2</th>\n",
       "      <td>28</td>\n",
       "      <td>0</td>\n",
       "      <td>3</td>\n",
       "      <td>6</td>\n",
       "      <td>2</td>\n",
       "      <td>-1.7</td>\n",
       "      <td>94.055</td>\n",
       "      <td>-39.8</td>\n",
       "      <td>0.729</td>\n",
       "      <td>4991.6</td>\n",
       "      <td>...</td>\n",
       "      <td>0</td>\n",
       "      <td>0</td>\n",
       "      <td>0</td>\n",
       "      <td>0</td>\n",
       "      <td>1</td>\n",
       "      <td>0</td>\n",
       "      <td>0</td>\n",
       "      <td>0</td>\n",
       "      <td>0</td>\n",
       "      <td>1</td>\n",
       "    </tr>\n",
       "    <tr>\n",
       "      <th>3</th>\n",
       "      <td>39</td>\n",
       "      <td>0</td>\n",
       "      <td>2</td>\n",
       "      <td>999</td>\n",
       "      <td>0</td>\n",
       "      <td>-1.8</td>\n",
       "      <td>93.075</td>\n",
       "      <td>-47.1</td>\n",
       "      <td>1.405</td>\n",
       "      <td>5099.1</td>\n",
       "      <td>...</td>\n",
       "      <td>0</td>\n",
       "      <td>0</td>\n",
       "      <td>1</td>\n",
       "      <td>0</td>\n",
       "      <td>0</td>\n",
       "      <td>0</td>\n",
       "      <td>0</td>\n",
       "      <td>0</td>\n",
       "      <td>1</td>\n",
       "      <td>0</td>\n",
       "    </tr>\n",
       "    <tr>\n",
       "      <th>4</th>\n",
       "      <td>55</td>\n",
       "      <td>0</td>\n",
       "      <td>1</td>\n",
       "      <td>3</td>\n",
       "      <td>1</td>\n",
       "      <td>-2.9</td>\n",
       "      <td>92.201</td>\n",
       "      <td>-31.4</td>\n",
       "      <td>0.869</td>\n",
       "      <td>5076.2</td>\n",
       "      <td>...</td>\n",
       "      <td>0</td>\n",
       "      <td>0</td>\n",
       "      <td>1</td>\n",
       "      <td>0</td>\n",
       "      <td>0</td>\n",
       "      <td>0</td>\n",
       "      <td>0</td>\n",
       "      <td>0</td>\n",
       "      <td>0</td>\n",
       "      <td>1</td>\n",
       "    </tr>\n",
       "  </tbody>\n",
       "</table>\n",
       "<p>5 rows × 62 columns</p>\n",
       "</div>"
      ],
      "text/plain": [
       "   age  contact  campaign  pdays  previous  emp_var_rate  cons_price_idx  \\\n",
       "0   44        0         1    999         0           1.4          93.444   \n",
       "1   53        0         1    999         0          -0.1          93.200   \n",
       "2   28        0         3      6         2          -1.7          94.055   \n",
       "3   39        0         2    999         0          -1.8          93.075   \n",
       "4   55        0         1      3         1          -2.9          92.201   \n",
       "\n",
       "   cons_conf_idx  euribor3m  nr_employed        ...         month_oct  \\\n",
       "0          -36.1      4.963       5228.1        ...                 0   \n",
       "1          -42.0      4.021       5195.8        ...                 0   \n",
       "2          -39.8      0.729       4991.6        ...                 0   \n",
       "3          -47.1      1.405       5099.1        ...                 0   \n",
       "4          -31.4      0.869       5076.2        ...                 0   \n",
       "\n",
       "   month_sep  day_of_week_fri  day_of_week_mon  day_of_week_thu  \\\n",
       "0          0                0                0                1   \n",
       "1          0                1                0                0   \n",
       "2          0                0                0                1   \n",
       "3          0                1                0                0   \n",
       "4          0                1                0                0   \n",
       "\n",
       "   day_of_week_tue  day_of_week_wed  poutcome_failure  poutcome_nonexistent  \\\n",
       "0                0                0                 0                     1   \n",
       "1                0                0                 0                     1   \n",
       "2                0                0                 0                     0   \n",
       "3                0                0                 0                     1   \n",
       "4                0                0                 0                     0   \n",
       "\n",
       "   poutcome_success  \n",
       "0                 0  \n",
       "1                 0  \n",
       "2                 1  \n",
       "3                 0  \n",
       "4                 1  \n",
       "\n",
       "[5 rows x 62 columns]"
      ]
     },
     "execution_count": 10,
     "metadata": {},
     "output_type": "execute_result"
    }
   ],
   "source": [
    "data.head()"
   ]
  },
  {
   "cell_type": "markdown",
   "metadata": {},
   "source": [
    "## 2.3 Improvement: Over-sampling using SMOTE "
   ]
  },
  {
   "cell_type": "code",
   "execution_count": 11,
   "metadata": {},
   "outputs": [
    {
     "name": "stdout",
     "output_type": "stream",
     "text": [
      "length of oversampled data is  73096\n",
      "Number of no subscription in oversampled data 36548\n",
      "Number of subscription 36548\n",
      "Proportion of no subscription data in oversampled data is  0.5\n",
      "Proportion of subscription data in oversampled data is  0.5\n"
     ]
    }
   ],
   "source": [
    "# Notice that I over-sampled only on the training data, \n",
    "# because by oversampling only on the training data, \n",
    "# none of the information in the testing data is being used to create synthetic observations.\n",
    "# Therefore, the information in the testing data will not contaminate the training data.\n",
    "os = SMOTE(sampling_strategy='minority', k_neighbors=10, m_neighbors=20, random_state=0)\n",
    "os_data_X, os_data_y = os.fit_sample(data[data.columns.difference(['y'])], \n",
    "                                     data.y)\n",
    "os_data_X = pd.DataFrame(data=os_data_X, columns=data.columns.difference(['y']))\n",
    "os_data_y = pd.DataFrame(data=os_data_y,columns=['y'])\n",
    "\n",
    "# Check the numbers of over-sampled data\n",
    "print(\"length of oversampled data is \", len(os_data_X))\n",
    "print(\"Number of no subscription in oversampled data\", len(os_data_y[os_data_y['y'] == 0]))\n",
    "print(\"Number of subscription\", len(os_data_y[os_data_y['y'] == 1]))\n",
    "print(\"Proportion of no subscription data in oversampled data is \",\n",
    "      len(os_data_y[os_data_y['y'] == 0])/len(os_data_y))\n",
    "print(\"Proportion of subscription data in oversampled data is \",\n",
    "      len(os_data_y[os_data_y['y'] == 1])/len(os_data_y))"
   ]
  },
  {
   "cell_type": "markdown",
   "metadata": {},
   "source": [
    "## 2.4 Train & test splitting (80%/20%)"
   ]
  },
  {
   "cell_type": "code",
   "execution_count": 12,
   "metadata": {},
   "outputs": [],
   "source": [
    "x_train, x_test, y_train, y_test = train_test_split(os_data_X, \n",
    "                                                    os_data_y, \n",
    "                                                    test_size=0.2, random_state=0) "
   ]
  },
  {
   "cell_type": "code",
   "execution_count": 13,
   "metadata": {},
   "outputs": [
    {
     "name": "stdout",
     "output_type": "stream",
     "text": [
      "(58476, 61) (14620, 61)\n",
      "(58476, 1) (14620, 1)\n"
     ]
    }
   ],
   "source": [
    "# Make sure the splitting is correct!\n",
    "print(x_train.shape, x_test.shape)\n",
    "print(y_train.shape, y_test.shape)"
   ]
  },
  {
   "cell_type": "markdown",
   "metadata": {},
   "source": [
    "## 2.5 Standardization"
   ]
  },
  {
   "cell_type": "code",
   "execution_count": 14,
   "metadata": {},
   "outputs": [],
   "source": [
    "# Test data are unseen data! \n",
    "# Since my purpose is to build a prediction model, I shouldn't contaminate train and test data together. \n",
    "std_scaler = StandardScaler().fit(x_train)\n",
    "\n",
    "train_standardized_data = std_scaler.transform(x_train)\n",
    "test_standardized_data = std_scaler.transform(x_test)"
   ]
  },
  {
   "cell_type": "code",
   "execution_count": 15,
   "metadata": {},
   "outputs": [
    {
     "data": {
      "text/html": [
       "<div>\n",
       "<style scoped>\n",
       "    .dataframe tbody tr th:only-of-type {\n",
       "        vertical-align: middle;\n",
       "    }\n",
       "\n",
       "    .dataframe tbody tr th {\n",
       "        vertical-align: top;\n",
       "    }\n",
       "\n",
       "    .dataframe thead th {\n",
       "        text-align: right;\n",
       "    }\n",
       "</style>\n",
       "<table border=\"1\" class=\"dataframe\">\n",
       "  <thead>\n",
       "    <tr style=\"text-align: right;\">\n",
       "      <th></th>\n",
       "      <th>0</th>\n",
       "      <th>1</th>\n",
       "      <th>2</th>\n",
       "      <th>3</th>\n",
       "      <th>4</th>\n",
       "      <th>5</th>\n",
       "      <th>6</th>\n",
       "      <th>7</th>\n",
       "      <th>8</th>\n",
       "      <th>9</th>\n",
       "      <th>...</th>\n",
       "      <th>51</th>\n",
       "      <th>52</th>\n",
       "      <th>53</th>\n",
       "      <th>54</th>\n",
       "      <th>55</th>\n",
       "      <th>56</th>\n",
       "      <th>57</th>\n",
       "      <th>58</th>\n",
       "      <th>59</th>\n",
       "      <th>60</th>\n",
       "    </tr>\n",
       "  </thead>\n",
       "  <tbody>\n",
       "    <tr>\n",
       "      <th>count</th>\n",
       "      <td>5.847600e+04</td>\n",
       "      <td>5.847600e+04</td>\n",
       "      <td>5.847600e+04</td>\n",
       "      <td>5.847600e+04</td>\n",
       "      <td>5.847600e+04</td>\n",
       "      <td>5.847600e+04</td>\n",
       "      <td>5.847600e+04</td>\n",
       "      <td>5.847600e+04</td>\n",
       "      <td>5.847600e+04</td>\n",
       "      <td>5.847600e+04</td>\n",
       "      <td>...</td>\n",
       "      <td>5.847600e+04</td>\n",
       "      <td>5.847600e+04</td>\n",
       "      <td>5.847600e+04</td>\n",
       "      <td>5.847600e+04</td>\n",
       "      <td>5.847600e+04</td>\n",
       "      <td>5.847600e+04</td>\n",
       "      <td>5.847600e+04</td>\n",
       "      <td>5.847600e+04</td>\n",
       "      <td>5.847600e+04</td>\n",
       "      <td>5.847600e+04</td>\n",
       "    </tr>\n",
       "    <tr>\n",
       "      <th>mean</th>\n",
       "      <td>-1.002020e-14</td>\n",
       "      <td>6.748655e-17</td>\n",
       "      <td>-6.869270e-14</td>\n",
       "      <td>-2.301517e-11</td>\n",
       "      <td>3.667442e-15</td>\n",
       "      <td>-3.870341e-15</td>\n",
       "      <td>-3.901273e-16</td>\n",
       "      <td>1.718602e-15</td>\n",
       "      <td>1.675090e-15</td>\n",
       "      <td>-2.863487e-15</td>\n",
       "      <td>...</td>\n",
       "      <td>-1.329894e-15</td>\n",
       "      <td>-4.945292e-16</td>\n",
       "      <td>1.779803e-15</td>\n",
       "      <td>1.507841e-15</td>\n",
       "      <td>1.183280e-11</td>\n",
       "      <td>-3.371684e-15</td>\n",
       "      <td>1.082046e-15</td>\n",
       "      <td>2.154010e-15</td>\n",
       "      <td>-1.583188e-15</td>\n",
       "      <td>-1.971310e-15</td>\n",
       "    </tr>\n",
       "    <tr>\n",
       "      <th>std</th>\n",
       "      <td>1.000009e+00</td>\n",
       "      <td>1.000009e+00</td>\n",
       "      <td>1.000009e+00</td>\n",
       "      <td>1.000009e+00</td>\n",
       "      <td>1.000009e+00</td>\n",
       "      <td>1.000009e+00</td>\n",
       "      <td>1.000009e+00</td>\n",
       "      <td>1.000009e+00</td>\n",
       "      <td>1.000009e+00</td>\n",
       "      <td>1.000009e+00</td>\n",
       "      <td>...</td>\n",
       "      <td>1.000009e+00</td>\n",
       "      <td>1.000009e+00</td>\n",
       "      <td>1.000009e+00</td>\n",
       "      <td>1.000009e+00</td>\n",
       "      <td>1.000009e+00</td>\n",
       "      <td>1.000009e+00</td>\n",
       "      <td>1.000009e+00</td>\n",
       "      <td>1.000009e+00</td>\n",
       "      <td>1.000009e+00</td>\n",
       "      <td>1.000009e+00</td>\n",
       "    </tr>\n",
       "    <tr>\n",
       "      <th>min</th>\n",
       "      <td>-1.962015e+00</td>\n",
       "      <td>-5.680033e-01</td>\n",
       "      <td>-1.983291e+00</td>\n",
       "      <td>-2.026413e+00</td>\n",
       "      <td>-6.322546e-01</td>\n",
       "      <td>-5.095551e-01</td>\n",
       "      <td>-5.276203e-01</td>\n",
       "      <td>-5.619754e-01</td>\n",
       "      <td>-5.346215e-01</td>\n",
       "      <td>-5.361716e-01</td>\n",
       "      <td>...</td>\n",
       "      <td>-6.139690e-01</td>\n",
       "      <td>-3.350478e-01</td>\n",
       "      <td>-2.040029e-01</td>\n",
       "      <td>-1.854645e-01</td>\n",
       "      <td>-1.984152e+00</td>\n",
       "      <td>-2.851768e+00</td>\n",
       "      <td>-3.683961e-01</td>\n",
       "      <td>-1.983339e+00</td>\n",
       "      <td>-3.412183e-01</td>\n",
       "      <td>-4.575588e-01</td>\n",
       "    </tr>\n",
       "    <tr>\n",
       "      <th>25%</th>\n",
       "      <td>-7.633044e-01</td>\n",
       "      <td>-5.680033e-01</td>\n",
       "      <td>-4.652984e-01</td>\n",
       "      <td>-8.507732e-01</td>\n",
       "      <td>-6.322546e-01</td>\n",
       "      <td>-5.095551e-01</td>\n",
       "      <td>-5.276203e-01</td>\n",
       "      <td>-5.619754e-01</td>\n",
       "      <td>-5.346215e-01</td>\n",
       "      <td>-5.361716e-01</td>\n",
       "      <td>...</td>\n",
       "      <td>-6.139690e-01</td>\n",
       "      <td>-3.350478e-01</td>\n",
       "      <td>-2.040029e-01</td>\n",
       "      <td>-1.854645e-01</td>\n",
       "      <td>-6.875851e-01</td>\n",
       "      <td>3.529286e-01</td>\n",
       "      <td>-3.683961e-01</td>\n",
       "      <td>5.307416e-01</td>\n",
       "      <td>-3.412183e-01</td>\n",
       "      <td>-4.575588e-01</td>\n",
       "    </tr>\n",
       "    <tr>\n",
       "      <th>50%</th>\n",
       "      <td>-1.997150e-01</td>\n",
       "      <td>-1.843367e-01</td>\n",
       "      <td>-2.966325e-01</td>\n",
       "      <td>-5.559780e-02</td>\n",
       "      <td>-6.322546e-01</td>\n",
       "      <td>-5.095551e-01</td>\n",
       "      <td>-5.276203e-01</td>\n",
       "      <td>-5.619754e-01</td>\n",
       "      <td>-5.346215e-01</td>\n",
       "      <td>-5.361716e-01</td>\n",
       "      <td>...</td>\n",
       "      <td>-6.139690e-01</td>\n",
       "      <td>-3.350478e-01</td>\n",
       "      <td>-2.040029e-01</td>\n",
       "      <td>-1.854645e-01</td>\n",
       "      <td>6.343143e-01</td>\n",
       "      <td>3.529286e-01</td>\n",
       "      <td>-3.683961e-01</td>\n",
       "      <td>5.307416e-01</td>\n",
       "      <td>-3.412183e-01</td>\n",
       "      <td>-4.575588e-01</td>\n",
       "    </tr>\n",
       "    <tr>\n",
       "      <th>75%</th>\n",
       "      <td>6.394753e-01</td>\n",
       "      <td>2.584066e-01</td>\n",
       "      <td>7.153626e-01</td>\n",
       "      <td>8.164442e-01</td>\n",
       "      <td>1.645423e+00</td>\n",
       "      <td>-5.095551e-01</td>\n",
       "      <td>-4.646568e-01</td>\n",
       "      <td>5.189206e-02</td>\n",
       "      <td>-2.971104e-01</td>\n",
       "      <td>-2.754336e-01</td>\n",
       "      <td>...</td>\n",
       "      <td>1.657902e+00</td>\n",
       "      <td>-3.350478e-01</td>\n",
       "      <td>-2.040029e-01</td>\n",
       "      <td>-1.854645e-01</td>\n",
       "      <td>1.061513e+00</td>\n",
       "      <td>3.529286e-01</td>\n",
       "      <td>-3.683961e-01</td>\n",
       "      <td>5.307416e-01</td>\n",
       "      <td>-3.412183e-01</td>\n",
       "      <td>-4.575588e-01</td>\n",
       "    </tr>\n",
       "    <tr>\n",
       "      <th>max</th>\n",
       "      <td>4.835427e+00</td>\n",
       "      <td>2.323110e+01</td>\n",
       "      <td>2.495724e+00</td>\n",
       "      <td>2.042060e+00</td>\n",
       "      <td>1.657076e+00</td>\n",
       "      <td>2.238409e+00</td>\n",
       "      <td>2.150412e+00</td>\n",
       "      <td>2.026440e+00</td>\n",
       "      <td>2.141712e+00</td>\n",
       "      <td>2.135584e+00</td>\n",
       "      <td>...</td>\n",
       "      <td>1.657902e+00</td>\n",
       "      <td>3.104917e+00</td>\n",
       "      <td>5.185049e+00</td>\n",
       "      <td>5.793828e+00</td>\n",
       "      <td>1.061513e+00</td>\n",
       "      <td>3.529286e-01</td>\n",
       "      <td>3.026884e+00</td>\n",
       "      <td>5.307416e-01</td>\n",
       "      <td>2.984327e+00</td>\n",
       "      <td>1.018560e+01</td>\n",
       "    </tr>\n",
       "  </tbody>\n",
       "</table>\n",
       "<p>8 rows × 61 columns</p>\n",
       "</div>"
      ],
      "text/plain": [
       "                 0             1             2             3             4   \\\n",
       "count  5.847600e+04  5.847600e+04  5.847600e+04  5.847600e+04  5.847600e+04   \n",
       "mean  -1.002020e-14  6.748655e-17 -6.869270e-14 -2.301517e-11  3.667442e-15   \n",
       "std    1.000009e+00  1.000009e+00  1.000009e+00  1.000009e+00  1.000009e+00   \n",
       "min   -1.962015e+00 -5.680033e-01 -1.983291e+00 -2.026413e+00 -6.322546e-01   \n",
       "25%   -7.633044e-01 -5.680033e-01 -4.652984e-01 -8.507732e-01 -6.322546e-01   \n",
       "50%   -1.997150e-01 -1.843367e-01 -2.966325e-01 -5.559780e-02 -6.322546e-01   \n",
       "75%    6.394753e-01  2.584066e-01  7.153626e-01  8.164442e-01  1.645423e+00   \n",
       "max    4.835427e+00  2.323110e+01  2.495724e+00  2.042060e+00  1.657076e+00   \n",
       "\n",
       "                 5             6             7             8             9   \\\n",
       "count  5.847600e+04  5.847600e+04  5.847600e+04  5.847600e+04  5.847600e+04   \n",
       "mean  -3.870341e-15 -3.901273e-16  1.718602e-15  1.675090e-15 -2.863487e-15   \n",
       "std    1.000009e+00  1.000009e+00  1.000009e+00  1.000009e+00  1.000009e+00   \n",
       "min   -5.095551e-01 -5.276203e-01 -5.619754e-01 -5.346215e-01 -5.361716e-01   \n",
       "25%   -5.095551e-01 -5.276203e-01 -5.619754e-01 -5.346215e-01 -5.361716e-01   \n",
       "50%   -5.095551e-01 -5.276203e-01 -5.619754e-01 -5.346215e-01 -5.361716e-01   \n",
       "75%   -5.095551e-01 -4.646568e-01  5.189206e-02 -2.971104e-01 -2.754336e-01   \n",
       "max    2.238409e+00  2.150412e+00  2.026440e+00  2.141712e+00  2.135584e+00   \n",
       "\n",
       "           ...                 51            52            53            54  \\\n",
       "count      ...       5.847600e+04  5.847600e+04  5.847600e+04  5.847600e+04   \n",
       "mean       ...      -1.329894e-15 -4.945292e-16  1.779803e-15  1.507841e-15   \n",
       "std        ...       1.000009e+00  1.000009e+00  1.000009e+00  1.000009e+00   \n",
       "min        ...      -6.139690e-01 -3.350478e-01 -2.040029e-01 -1.854645e-01   \n",
       "25%        ...      -6.139690e-01 -3.350478e-01 -2.040029e-01 -1.854645e-01   \n",
       "50%        ...      -6.139690e-01 -3.350478e-01 -2.040029e-01 -1.854645e-01   \n",
       "75%        ...       1.657902e+00 -3.350478e-01 -2.040029e-01 -1.854645e-01   \n",
       "max        ...       1.657902e+00  3.104917e+00  5.185049e+00  5.793828e+00   \n",
       "\n",
       "                 55            56            57            58            59  \\\n",
       "count  5.847600e+04  5.847600e+04  5.847600e+04  5.847600e+04  5.847600e+04   \n",
       "mean   1.183280e-11 -3.371684e-15  1.082046e-15  2.154010e-15 -1.583188e-15   \n",
       "std    1.000009e+00  1.000009e+00  1.000009e+00  1.000009e+00  1.000009e+00   \n",
       "min   -1.984152e+00 -2.851768e+00 -3.683961e-01 -1.983339e+00 -3.412183e-01   \n",
       "25%   -6.875851e-01  3.529286e-01 -3.683961e-01  5.307416e-01 -3.412183e-01   \n",
       "50%    6.343143e-01  3.529286e-01 -3.683961e-01  5.307416e-01 -3.412183e-01   \n",
       "75%    1.061513e+00  3.529286e-01 -3.683961e-01  5.307416e-01 -3.412183e-01   \n",
       "max    1.061513e+00  3.529286e-01  3.026884e+00  5.307416e-01  2.984327e+00   \n",
       "\n",
       "                 60  \n",
       "count  5.847600e+04  \n",
       "mean  -1.971310e-15  \n",
       "std    1.000009e+00  \n",
       "min   -4.575588e-01  \n",
       "25%   -4.575588e-01  \n",
       "50%   -4.575588e-01  \n",
       "75%   -4.575588e-01  \n",
       "max    1.018560e+01  \n",
       "\n",
       "[8 rows x 61 columns]"
      ]
     },
     "execution_count": 15,
     "metadata": {},
     "output_type": "execute_result"
    }
   ],
   "source": [
    "# Make sure the standardization is correct (mean must be 0 and variance must be 1) \n",
    "# Train data\n",
    "pd.DataFrame(train_standardized_data).describe()"
   ]
  },
  {
   "cell_type": "markdown",
   "metadata": {},
   "source": [
    "# 3. Model Fitting\n",
    "- 3.1 Model validation - Five-folds Cross Validation\n",
    "- 3.2 Model performance report"
   ]
  },
  {
   "cell_type": "markdown",
   "metadata": {},
   "source": [
    "## 3.1 Model validation - Five-folds Cross Validation"
   ]
  },
  {
   "cell_type": "code",
   "execution_count": 16,
   "metadata": {},
   "outputs": [
    {
     "name": "stderr",
     "output_type": "stream",
     "text": [
      "/Users/wuchenhong/anaconda3/lib/python3.6/site-packages/sklearn/linear_model/stochastic_gradient.py:144: FutureWarning: max_iter and tol parameters have been added in SGDClassifier in 0.19. If both are left unset, they default to max_iter=5 and tol=None. If tol is not None, max_iter defaults to max_iter=1000. From 0.21, default max_iter will be 1000, and default tol will be 1e-3.\n",
      "  FutureWarning)\n",
      "/Users/wuchenhong/anaconda3/lib/python3.6/site-packages/sklearn/utils/validation.py:752: DataConversionWarning: A column-vector y was passed when a 1d array was expected. Please change the shape of y to (n_samples, ), for example using ravel().\n",
      "  y = column_or_1d(y, warn=True)\n",
      "/Users/wuchenhong/anaconda3/lib/python3.6/site-packages/sklearn/linear_model/stochastic_gradient.py:144: FutureWarning: max_iter and tol parameters have been added in SGDClassifier in 0.19. If both are left unset, they default to max_iter=5 and tol=None. If tol is not None, max_iter defaults to max_iter=1000. From 0.21, default max_iter will be 1000, and default tol will be 1e-3.\n",
      "  FutureWarning)\n",
      "/Users/wuchenhong/anaconda3/lib/python3.6/site-packages/sklearn/utils/validation.py:752: DataConversionWarning: A column-vector y was passed when a 1d array was expected. Please change the shape of y to (n_samples, ), for example using ravel().\n",
      "  y = column_or_1d(y, warn=True)\n",
      "/Users/wuchenhong/anaconda3/lib/python3.6/site-packages/sklearn/linear_model/stochastic_gradient.py:144: FutureWarning: max_iter and tol parameters have been added in SGDClassifier in 0.19. If both are left unset, they default to max_iter=5 and tol=None. If tol is not None, max_iter defaults to max_iter=1000. From 0.21, default max_iter will be 1000, and default tol will be 1e-3.\n",
      "  FutureWarning)\n",
      "/Users/wuchenhong/anaconda3/lib/python3.6/site-packages/sklearn/utils/validation.py:752: DataConversionWarning: A column-vector y was passed when a 1d array was expected. Please change the shape of y to (n_samples, ), for example using ravel().\n",
      "  y = column_or_1d(y, warn=True)\n",
      "/Users/wuchenhong/anaconda3/lib/python3.6/site-packages/sklearn/linear_model/stochastic_gradient.py:144: FutureWarning: max_iter and tol parameters have been added in SGDClassifier in 0.19. If both are left unset, they default to max_iter=5 and tol=None. If tol is not None, max_iter defaults to max_iter=1000. From 0.21, default max_iter will be 1000, and default tol will be 1e-3.\n",
      "  FutureWarning)\n",
      "/Users/wuchenhong/anaconda3/lib/python3.6/site-packages/sklearn/utils/validation.py:752: DataConversionWarning: A column-vector y was passed when a 1d array was expected. Please change the shape of y to (n_samples, ), for example using ravel().\n",
      "  y = column_or_1d(y, warn=True)\n",
      "/Users/wuchenhong/anaconda3/lib/python3.6/site-packages/sklearn/linear_model/stochastic_gradient.py:144: FutureWarning: max_iter and tol parameters have been added in SGDClassifier in 0.19. If both are left unset, they default to max_iter=5 and tol=None. If tol is not None, max_iter defaults to max_iter=1000. From 0.21, default max_iter will be 1000, and default tol will be 1e-3.\n",
      "  FutureWarning)\n",
      "/Users/wuchenhong/anaconda3/lib/python3.6/site-packages/sklearn/utils/validation.py:752: DataConversionWarning: A column-vector y was passed when a 1d array was expected. Please change the shape of y to (n_samples, ), for example using ravel().\n",
      "  y = column_or_1d(y, warn=True)\n",
      "/Users/wuchenhong/anaconda3/lib/python3.6/site-packages/sklearn/linear_model/stochastic_gradient.py:144: FutureWarning: max_iter and tol parameters have been added in SGDClassifier in 0.19. If both are left unset, they default to max_iter=5 and tol=None. If tol is not None, max_iter defaults to max_iter=1000. From 0.21, default max_iter will be 1000, and default tol will be 1e-3.\n",
      "  FutureWarning)\n",
      "/Users/wuchenhong/anaconda3/lib/python3.6/site-packages/sklearn/utils/validation.py:752: DataConversionWarning: A column-vector y was passed when a 1d array was expected. Please change the shape of y to (n_samples, ), for example using ravel().\n",
      "  y = column_or_1d(y, warn=True)\n",
      "/Users/wuchenhong/anaconda3/lib/python3.6/site-packages/sklearn/linear_model/stochastic_gradient.py:144: FutureWarning: max_iter and tol parameters have been added in SGDClassifier in 0.19. If both are left unset, they default to max_iter=5 and tol=None. If tol is not None, max_iter defaults to max_iter=1000. From 0.21, default max_iter will be 1000, and default tol will be 1e-3.\n",
      "  FutureWarning)\n",
      "/Users/wuchenhong/anaconda3/lib/python3.6/site-packages/sklearn/utils/validation.py:752: DataConversionWarning: A column-vector y was passed when a 1d array was expected. Please change the shape of y to (n_samples, ), for example using ravel().\n",
      "  y = column_or_1d(y, warn=True)\n",
      "/Users/wuchenhong/anaconda3/lib/python3.6/site-packages/sklearn/linear_model/stochastic_gradient.py:144: FutureWarning: max_iter and tol parameters have been added in SGDClassifier in 0.19. If both are left unset, they default to max_iter=5 and tol=None. If tol is not None, max_iter defaults to max_iter=1000. From 0.21, default max_iter will be 1000, and default tol will be 1e-3.\n",
      "  FutureWarning)\n",
      "/Users/wuchenhong/anaconda3/lib/python3.6/site-packages/sklearn/utils/validation.py:752: DataConversionWarning: A column-vector y was passed when a 1d array was expected. Please change the shape of y to (n_samples, ), for example using ravel().\n",
      "  y = column_or_1d(y, warn=True)\n",
      "/Users/wuchenhong/anaconda3/lib/python3.6/site-packages/sklearn/linear_model/stochastic_gradient.py:144: FutureWarning: max_iter and tol parameters have been added in SGDClassifier in 0.19. If both are left unset, they default to max_iter=5 and tol=None. If tol is not None, max_iter defaults to max_iter=1000. From 0.21, default max_iter will be 1000, and default tol will be 1e-3.\n",
      "  FutureWarning)\n",
      "/Users/wuchenhong/anaconda3/lib/python3.6/site-packages/sklearn/utils/validation.py:752: DataConversionWarning: A column-vector y was passed when a 1d array was expected. Please change the shape of y to (n_samples, ), for example using ravel().\n",
      "  y = column_or_1d(y, warn=True)\n",
      "/Users/wuchenhong/anaconda3/lib/python3.6/site-packages/sklearn/linear_model/stochastic_gradient.py:144: FutureWarning: max_iter and tol parameters have been added in SGDClassifier in 0.19. If both are left unset, they default to max_iter=5 and tol=None. If tol is not None, max_iter defaults to max_iter=1000. From 0.21, default max_iter will be 1000, and default tol will be 1e-3.\n",
      "  FutureWarning)\n",
      "/Users/wuchenhong/anaconda3/lib/python3.6/site-packages/sklearn/utils/validation.py:752: DataConversionWarning: A column-vector y was passed when a 1d array was expected. Please change the shape of y to (n_samples, ), for example using ravel().\n",
      "  y = column_or_1d(y, warn=True)\n"
     ]
    }
   ],
   "source": [
    "# The first model is trained on balanced lables.\n",
    "model_1 = SGDClassifier(loss='log',\n",
    "                        alpha=0.01743904816851357,\n",
    "                        fit_intercept=False,\n",
    "                        l1_ratio=0.7105872068782357,\n",
    "                        penalty='none',\n",
    "                        random_state=0)\n",
    "\n",
    "# The second model is trained on balanced lables and different penalties.\n",
    "model_2 = SGDClassifier(loss='log',\n",
    "                        alpha=0.004141721491202196,\n",
    "                        class_weight={0: 0.1,1: 0.9},\n",
    "                        fit_intercept=True, \n",
    "                        l1_ratio=0.5957262736653763,\n",
    "                        penalty='l2')\n",
    "\n",
    "# Five-folds cross validation\n",
    "scores_model_1 = cross_validate(model_1, train_standardized_data, y_train, \n",
    "                                scoring='roc_auc', cv=5)\n",
    "scores_model_2 = cross_validate(model_2, train_standardized_data, y_train, \n",
    "                                scoring='roc_auc', cv=5)"
   ]
  },
  {
   "cell_type": "code",
   "execution_count": 17,
   "metadata": {},
   "outputs": [
    {
     "name": "stdout",
     "output_type": "stream",
     "text": [
      "The average accuracy score on test sets is 0.8002.\n",
      "The standard deviation is 0.0026 across five folds.\n",
      "The average accuracy score on train sets is 0.8009.\n"
     ]
    },
    {
     "name": "stderr",
     "output_type": "stream",
     "text": [
      "/Users/wuchenhong/anaconda3/lib/python3.6/site-packages/sklearn/utils/deprecation.py:125: FutureWarning: You are accessing a training score ('train_score'), which will not be available by default any more in 0.21. If you need training scores, please set return_train_score=True\n",
      "  warnings.warn(*warn_args, **warn_kwargs)\n"
     ]
    }
   ],
   "source": [
    "# From the five-folds cross validation result, the model (SGDclassifier) is pretty steady\n",
    "# observed from the standard deviation of five folds. \n",
    "# There is no overfitting issue because the accuracy scores are close between train and\n",
    "# test data.\n",
    "\n",
    "# Model 1\n",
    "print('The average accuracy score on test sets is {}.\\nThe standard deviation is {} across five folds.'.format(\n",
    "    round(np.mean(scores_model_1['test_score']), 4),\n",
    "    round(np.std(scores_model_1['test_score']), 4),\n",
    "))\n",
    "print('The average accuracy score on train sets is {}.'.format(\n",
    "    round(np.mean(scores_model_1['train_score']), 4)))"
   ]
  },
  {
   "cell_type": "code",
   "execution_count": 18,
   "metadata": {},
   "outputs": [
    {
     "name": "stdout",
     "output_type": "stream",
     "text": [
      "The average accuracy score on test sets is 0.7994.\n",
      "The standard deviation is 0.0031 across five folds.\n",
      "The average accuracy score on train sets is 0.8003.\n"
     ]
    }
   ],
   "source": [
    "# Model 2\n",
    "print('The average accuracy score on test sets is {}.\\nThe standard deviation is {} across five folds.'.format(\n",
    "    round(np.mean(scores_model_2['test_score']), 4),\n",
    "    round(np.std(scores_model_2['test_score']), 4),\n",
    "))\n",
    "print('The average accuracy score on train sets is {}.'.format(\n",
    "    round(np.mean(scores_model_2['train_score']), 4)))"
   ]
  },
  {
   "cell_type": "markdown",
   "metadata": {},
   "source": [
    "## 3.2 Model performance report"
   ]
  },
  {
   "cell_type": "code",
   "execution_count": 19,
   "metadata": {},
   "outputs": [
    {
     "name": "stderr",
     "output_type": "stream",
     "text": [
      "/Users/wuchenhong/anaconda3/lib/python3.6/site-packages/sklearn/linear_model/stochastic_gradient.py:144: FutureWarning: max_iter and tol parameters have been added in SGDClassifier in 0.19. If both are left unset, they default to max_iter=5 and tol=None. If tol is not None, max_iter defaults to max_iter=1000. From 0.21, default max_iter will be 1000, and default tol will be 1e-3.\n",
      "  FutureWarning)\n",
      "/Users/wuchenhong/anaconda3/lib/python3.6/site-packages/sklearn/utils/validation.py:752: DataConversionWarning: A column-vector y was passed when a 1d array was expected. Please change the shape of y to (n_samples, ), for example using ravel().\n",
      "  y = column_or_1d(y, warn=True)\n",
      "/Users/wuchenhong/anaconda3/lib/python3.6/site-packages/sklearn/linear_model/stochastic_gradient.py:144: FutureWarning: max_iter and tol parameters have been added in SGDClassifier in 0.19. If both are left unset, they default to max_iter=5 and tol=None. If tol is not None, max_iter defaults to max_iter=1000. From 0.21, default max_iter will be 1000, and default tol will be 1e-3.\n",
      "  FutureWarning)\n",
      "/Users/wuchenhong/anaconda3/lib/python3.6/site-packages/sklearn/utils/validation.py:752: DataConversionWarning: A column-vector y was passed when a 1d array was expected. Please change the shape of y to (n_samples, ), for example using ravel().\n",
      "  y = column_or_1d(y, warn=True)\n"
     ]
    },
    {
     "data": {
      "text/plain": [
       "SGDClassifier(alpha=0.004141721491202196, average=False,\n",
       "       class_weight={0: 0.1, 1: 0.9}, early_stopping=False, epsilon=0.1,\n",
       "       eta0=0.0, fit_intercept=True, l1_ratio=0.5957262736653763,\n",
       "       learning_rate='optimal', loss='log', max_iter=None, n_iter=None,\n",
       "       n_iter_no_change=5, n_jobs=None, penalty='l2', power_t=0.5,\n",
       "       random_state=None, shuffle=True, tol=None, validation_fraction=0.1,\n",
       "       verbose=0, warm_start=False)"
      ]
     },
     "execution_count": 19,
     "metadata": {},
     "output_type": "execute_result"
    }
   ],
   "source": [
    "model_1.fit(train_standardized_data, y_train)\n",
    "\n",
    "model_2.fit(train_standardized_data, y_train)"
   ]
  },
  {
   "cell_type": "code",
   "execution_count": 20,
   "metadata": {},
   "outputs": [],
   "source": [
    "# Helper method to print metric scores    \n",
    "def get_performance_metrics(y_train, y_train_pred, y_test, y_test_pred, threshold=0.5):\n",
    "    metric_names = ['AUC','Accuracy','Precision','Recall','f1-score']\n",
    "    metric_values_train = [roc_auc_score(y_train, y_train_pred),\n",
    "                           accuracy_score(y_train, y_train_pred>threshold),\n",
    "                           precision_score(y_train, y_train_pred>threshold),\n",
    "                           recall_score(y_train, y_train_pred>threshold),\n",
    "                           f1_score(y_train, y_train_pred>threshold)\n",
    "                          ]\n",
    "    metric_values_test = [roc_auc_score(y_test, y_test_pred),\n",
    "                          accuracy_score(y_test, y_test_pred>threshold),\n",
    "                          precision_score(y_test, y_test_pred>threshold),\n",
    "                          recall_score(y_test, y_test_pred>threshold),\n",
    "                          f1_score(y_test, y_test_pred>threshold)\n",
    "                         ]\n",
    "    all_metrics = pd.DataFrame({'metrics':metric_names,\n",
    "                                'train':metric_values_train,\n",
    "                                'test':metric_values_test},\n",
    "                               columns=['metrics','train','test']).set_index('metrics')\n",
    "    print(all_metrics)"
   ]
  },
  {
   "cell_type": "code",
   "execution_count": 21,
   "metadata": {},
   "outputs": [],
   "source": [
    "def plot_roc_curve(y_train, y_train_pred, y_test, y_test_pred):\n",
    "    roc_auc_train = roc_auc_score(y_train, y_train_pred)\n",
    "    fpr_train, tpr_train, _ = roc_curve(y_train, y_train_pred)\n",
    "\n",
    "    roc_auc_test = roc_auc_score(y_test, y_test_pred)\n",
    "    fpr_test, tpr_test, _ = roc_curve(y_test, y_test_pred)\n",
    "    plt.figure()\n",
    "    lw = 2\n",
    "    plt.plot(fpr_train, tpr_train, color='green',\n",
    "             lw=lw, label='ROC Train (AUC = %0.4f)' % roc_auc_train)\n",
    "    plt.plot(fpr_test, tpr_test, color='darkorange',\n",
    "             lw=lw, label='ROC Test (AUC = %0.4f)' % roc_auc_test)\n",
    "    plt.plot([0, 1], [0, 1], color='navy', lw=lw, linestyle='--')\n",
    "    plt.xlim([0.0, 1.0])\n",
    "    plt.ylim([0.0, 1.05])\n",
    "    plt.xlabel('False Positive Rate')\n",
    "    plt.ylabel('True Positive Rate')\n",
    "    plt.title('Receiver operating characteristic example')\n",
    "    plt.legend(loc=\"lower right\")\n",
    "    plt.show()"
   ]
  },
  {
   "cell_type": "code",
   "execution_count": 22,
   "metadata": {},
   "outputs": [
    {
     "name": "stdout",
     "output_type": "stream",
     "text": [
      "              train      test\n",
      "metrics                      \n",
      "AUC        0.801519  0.797974\n",
      "Accuracy   0.744921  0.741792\n",
      "Precision  0.816949  0.813990\n",
      "Recall     0.630844  0.628649\n",
      "f1-score   0.711935  0.709414\n"
     ]
    },
    {
     "data": {
      "image/png": "[encoded data removed]",
      "text/plain": [
       "<Figure size 432x288 with 1 Axes>"
      ]
     },
     "metadata": {
      "needs_background": "light"
     },
     "output_type": "display_data"
    }
   ],
   "source": [
    "# Notice that precision, recall, and f1-score are returned for label 1, not label 0.\n",
    "# Model 1\n",
    "get_performance_metrics(y_train=y_train, \n",
    "                        y_train_pred=model_1.predict_proba(train_standardized_data)[:,1], \n",
    "                        y_test=y_test, \n",
    "                        y_test_pred=model_1.predict_proba(test_standardized_data)[:,1], \n",
    "                        threshold=0.5)\n",
    "plot_roc_curve(y_train=y_train, \n",
    "               y_train_pred=model_1.predict_proba(train_standardized_data)[:, 1], \n",
    "               y_test=y_test, \n",
    "               y_test_pred=model_1.predict_proba(test_standardized_data)[:,1])"
   ]
  },
  {
   "cell_type": "code",
   "execution_count": 23,
   "metadata": {},
   "outputs": [
    {
     "name": "stdout",
     "output_type": "stream",
     "text": [
      "              train      test\n",
      "metrics                      \n",
      "AUC        0.800367  0.796371\n",
      "Accuracy   0.501659  0.503146\n",
      "Precision  0.500660  0.502262\n",
      "Recall     0.999863  0.999864\n",
      "f1-score   0.667222  0.668643\n"
     ]
    },
    {
     "data": {
      "image/png": "[encoded data removed]",
      "text/plain": [
       "<Figure size 432x288 with 1 Axes>"
      ]
     },
     "metadata": {
      "needs_background": "light"
     },
     "output_type": "display_data"
    }
   ],
   "source": [
    "# Model 2\n",
    "get_performance_metrics(y_train=y_train, \n",
    "                        y_train_pred=model_2.predict_proba(train_standardized_data)[:,1], \n",
    "                        y_test=y_test, \n",
    "                        y_test_pred=model_2.predict_proba(test_standardized_data)[:,1], \n",
    "                        threshold=0.5)\n",
    "plot_roc_curve(y_train=y_train, \n",
    "               y_train_pred=model_2.predict_proba(train_standardized_data)[:, 1], \n",
    "               y_test=y_test, \n",
    "               y_test_pred=model_2.predict_proba(test_standardized_data)[:,1])"
   ]
  },
  {
   "cell_type": "code",
   "execution_count": 24,
   "metadata": {},
   "outputs": [
    {
     "name": "stdout",
     "output_type": "stream",
     "text": [
      "              precision    recall  f1-score   support\n",
      "\n",
      "           0       0.70      0.86      0.77      7290\n",
      "           1       0.81      0.63      0.71      7330\n",
      "\n",
      "   micro avg       0.74      0.74      0.74     14620\n",
      "   macro avg       0.76      0.74      0.74     14620\n",
      "weighted avg       0.76      0.74      0.74     14620\n",
      "\n"
     ]
    }
   ],
   "source": [
    "# Model 1 - metric report\n",
    "print(classification_report(y_true=y_test, \n",
    "                            y_pred=model_1.predict(test_standardized_data)))"
   ]
  },
  {
   "cell_type": "code",
   "execution_count": 25,
   "metadata": {},
   "outputs": [
    {
     "name": "stdout",
     "output_type": "stream",
     "text": [
      "              precision    recall  f1-score   support\n",
      "\n",
      "           0       0.96      0.00      0.01      7290\n",
      "           1       0.50      1.00      0.67      7330\n",
      "\n",
      "   micro avg       0.50      0.50      0.50     14620\n",
      "   macro avg       0.73      0.50      0.34     14620\n",
      "weighted avg       0.73      0.50      0.34     14620\n",
      "\n"
     ]
    }
   ],
   "source": [
    "# Model 2 - metric report\n",
    "print(classification_report(y_true=y_test, \n",
    "                            y_pred=model_2.predict(test_standardized_data)))"
   ]
  },
  {
   "cell_type": "code",
   "execution_count": 26,
   "metadata": {},
   "outputs": [
    {
     "data": {
      "text/html": [
       "<div>\n",
       "<style scoped>\n",
       "    .dataframe tbody tr th:only-of-type {\n",
       "        vertical-align: middle;\n",
       "    }\n",
       "\n",
       "    .dataframe tbody tr th {\n",
       "        vertical-align: top;\n",
       "    }\n",
       "\n",
       "    .dataframe thead th {\n",
       "        text-align: right;\n",
       "    }\n",
       "</style>\n",
       "<table border=\"1\" class=\"dataframe\">\n",
       "  <thead>\n",
       "    <tr style=\"text-align: right;\">\n",
       "      <th></th>\n",
       "      <th>Pred 0</th>\n",
       "      <th>Pred 1</th>\n",
       "    </tr>\n",
       "  </thead>\n",
       "  <tbody>\n",
       "    <tr>\n",
       "      <th>True 0</th>\n",
       "      <td>6237</td>\n",
       "      <td>1053</td>\n",
       "    </tr>\n",
       "    <tr>\n",
       "      <th>True 1</th>\n",
       "      <td>2722</td>\n",
       "      <td>4608</td>\n",
       "    </tr>\n",
       "  </tbody>\n",
       "</table>\n",
       "</div>"
      ],
      "text/plain": [
       "        Pred 0  Pred 1\n",
       "True 0    6237    1053\n",
       "True 1    2722    4608"
      ]
     },
     "execution_count": 26,
     "metadata": {},
     "output_type": "execute_result"
    }
   ],
   "source": [
    "# Model 1 - Confusion Matrix\n",
    "pd.DataFrame(confusion_matrix(y_test, \n",
    "                              y_pred=model_1.predict(test_standardized_data)), \n",
    "             columns=['Pred 0', 'Pred 1'],\n",
    "             index = ['True 0', 'True 1'])"
   ]
  },
  {
   "cell_type": "code",
   "execution_count": 27,
   "metadata": {},
   "outputs": [
    {
     "data": {
      "text/html": [
       "<div>\n",
       "<style scoped>\n",
       "    .dataframe tbody tr th:only-of-type {\n",
       "        vertical-align: middle;\n",
       "    }\n",
       "\n",
       "    .dataframe tbody tr th {\n",
       "        vertical-align: top;\n",
       "    }\n",
       "\n",
       "    .dataframe thead th {\n",
       "        text-align: right;\n",
       "    }\n",
       "</style>\n",
       "<table border=\"1\" class=\"dataframe\">\n",
       "  <thead>\n",
       "    <tr style=\"text-align: right;\">\n",
       "      <th></th>\n",
       "      <th>Pred 0</th>\n",
       "      <th>Pred 1</th>\n",
       "    </tr>\n",
       "  </thead>\n",
       "  <tbody>\n",
       "    <tr>\n",
       "      <th>True 0</th>\n",
       "      <td>27</td>\n",
       "      <td>7263</td>\n",
       "    </tr>\n",
       "    <tr>\n",
       "      <th>True 1</th>\n",
       "      <td>1</td>\n",
       "      <td>7329</td>\n",
       "    </tr>\n",
       "  </tbody>\n",
       "</table>\n",
       "</div>"
      ],
      "text/plain": [
       "        Pred 0  Pred 1\n",
       "True 0      27    7263\n",
       "True 1       1    7329"
      ]
     },
     "execution_count": 27,
     "metadata": {},
     "output_type": "execute_result"
    }
   ],
   "source": [
    "# Model 2 - Confusion Matrix\n",
    "pd.DataFrame(confusion_matrix(y_test, \n",
    "                              y_pred=model_2.predict(test_standardized_data)), \n",
    "             columns=['Pred 0', 'Pred 1'],\n",
    "             index = ['True 0', 'True 1'])"
   ]
  },
  {
   "cell_type": "markdown",
   "metadata": {},
   "source": [
    "# 4. Hyperparameter Tuning - SGD classifier\n",
    "- 4.1 Bayesian Optimization \n",
    "    - 4.1.1 Bayesian Optimization - Include class_weight\n",
    "- 4.2 Continue Bayesian Optimization"
   ]
  },
  {
   "cell_type": "markdown",
   "metadata": {},
   "source": [
    "## 4.1 Bayesian Optimization "
   ]
  },
  {
   "cell_type": "code",
   "execution_count": null,
   "metadata": {},
   "outputs": [],
   "source": [
    "# Define the search space\n",
    "space = {\n",
    "    'loss':'log',\n",
    "    'penalty': hp.choice('penalty', ['none', 'l2', 'l1', 'elasticnet']),\n",
    "    'alpha': hp.uniform('alpha', 0.0001, 100.0),\n",
    "    'l1_ratio': hp.uniform('l1_ratio', 0.0, 1.0),\n",
    "    'fit_intercept':hp.choice('fit_intercept', [True, False]),\n",
    "    'random_state':0\n",
    "}"
   ]
  },
  {
   "cell_type": "markdown",
   "metadata": {},
   "source": [
    "### 4.1.1 Bayesian Optimization - Include class_weight"
   ]
  },
  {
   "cell_type": "code",
   "execution_count": null,
   "metadata": {},
   "outputs": [],
   "source": [
    "# Define the search space\n",
    "space = {\n",
    "    'loss':'log',\n",
    "    'penalty': hp.choice('penalty', ['none', 'l2', 'l1', 'elasticnet']),\n",
    "    'alpha': hp.uniform('alpha', 0.0001, 100.0),\n",
    "    'l1_ratio': hp.uniform('l1_ratio', 0.0, 1.0),\n",
    "    'fit_intercept':hp.choice('fit_intercept', [True, False]),\n",
    "    'random_state':0,\n",
    "    'class_weight':{0:0.1,1:0.9}\n",
    "}"
   ]
  },
  {
   "cell_type": "code",
   "execution_count": null,
   "metadata": {},
   "outputs": [],
   "source": [
    "# Define the objective (here is to minimize mse)\n",
    "def objective(hyperparameters):\n",
    "    \n",
    "    \"\"\"Objective function for multiple linear regression hyperparameter optimization.\"\"\"\n",
    "    \n",
    "    # Keep track of evals\n",
    "    global ITERATION\n",
    "    \n",
    "    ITERATION += 1\n",
    "    \n",
    "    start = timer()\n",
    "    \n",
    "    # Perform 5-fold cross validation\n",
    "    model = SGDClassifier(**hyperparameters)\n",
    "    cv_results = cross_validate(model, train_standardized_data, y_train, \n",
    "                                scoring='roc_auc', cv=5, \n",
    "                                return_train_score=False)\n",
    "    run_time = timer() - start\n",
    "    \n",
    "    # Loss must be minimized (put a negative sign)\n",
    "    loss = -(np.mean(cv_results['test_score']))\n",
    "\n",
    "    # Write searching results to a csv file ('a' means append)\n",
    "    of_connection = open(OUT_FILE, 'a')\n",
    "    writer = csv.writer(of_connection)\n",
    "    writer.writerow([loss, hyperparameters, ITERATION, run_time])\n",
    "    of_connection.close()\n",
    "\n",
    "    # Dictionary with information for evaluation\n",
    "    return {'loss': loss, 'hyperparameters': hyperparameters, 'iteration': ITERATION,\n",
    "            'train_time': run_time, 'status': STATUS_OK}"
   ]
  },
  {
   "cell_type": "code",
   "execution_count": null,
   "metadata": {},
   "outputs": [],
   "source": [
    "# Record results\n",
    "trials = Trials()"
   ]
  },
  {
   "cell_type": "code",
   "execution_count": null,
   "metadata": {},
   "outputs": [],
   "source": [
    "# Create a file and open a connection\n",
    "#OUT_FILE = 'OS_SGD_Logistic_Regression.csv'\n",
    "OUT_FILE = 'OS_CW_SGD_Logistic_Regression.csv'\n",
    "of_connection = open(OUT_FILE, 'w')\n",
    "writer = csv.writer(of_connection)\n",
    "\n",
    "ITERATION = 0\n",
    "\n",
    "# Write column names\n",
    "headers = ['loss', 'hyperparameters', 'iteration', 'runtime']\n",
    "writer.writerow(headers)\n",
    "of_connection.close()"
   ]
  },
  {
   "cell_type": "code",
   "execution_count": null,
   "metadata": {},
   "outputs": [],
   "source": [
    "# Run 100 evaluations\n",
    "MAX_EVALS = 100\n",
    "\n",
    "# Global variable\n",
    "global ITERATION\n",
    "\n",
    "ITERATION = 0\n",
    "\n",
    "# Run optimization\n",
    "best = fmin(fn = objective, \n",
    "            space = space, \n",
    "            algo = tpe.suggest, \n",
    "            trials = trials,\n",
    "            max_evals = MAX_EVALS)\n",
    "\n",
    "best"
   ]
  },
  {
   "cell_type": "code",
   "execution_count": null,
   "metadata": {},
   "outputs": [],
   "source": [
    "# Sort the trials with the lowest loss first\n",
    "trials_dict = sorted(trials.results, key = lambda x: x['loss'], reverse=False)\n",
    "trials_dict[0]"
   ]
  },
  {
   "cell_type": "markdown",
   "metadata": {},
   "source": [
    "## 4.2 Continue Bayesian Optimization"
   ]
  },
  {
   "cell_type": "code",
   "execution_count": null,
   "metadata": {},
   "outputs": [],
   "source": [
    "# Save the trial results to a json file for later continuing training\n",
    "#with open('OS_SGD_Logistic_Regression.json', 'w') as f:\n",
    "    #f.write(json.dumps(trials_dict))\n",
    "    \n",
    "with open('OS_CW_SGD_Logistic_Regression.json', 'w') as f:\n",
    "    f.write(json.dumps(trials_dict))"
   ]
  },
  {
   "cell_type": "code",
   "execution_count": null,
   "metadata": {},
   "outputs": [],
   "source": [
    "# Read back the Trail object\n",
    "#with open('OS_SGD_Logistic_Regression.json') as f:\n",
    "    #last_x_trail = json.load(f)\n",
    "    \n",
    "with open('OS_CW_SGD_Logistic_Regression.json') as f:\n",
    "    last_x_trail = json.load(f)\n",
    "\n",
    "# See how many iterations finished before\n",
    "print(len(last_x_trail))"
   ]
  },
  {
   "cell_type": "code",
   "execution_count": null,
   "metadata": {},
   "outputs": [],
   "source": [
    "# Continue Bayesian Optimization by doing x more times \n",
    "# Notice: Must specify the last searched trail object \n",
    "MAX_EVALS = 1000\n",
    "trials = Trials(last_x_trail)\n",
    "\n",
    "best = fmin(fn = objective, \n",
    "            space = space, \n",
    "            algo = tpe.suggest, \n",
    "            trials = trials,\n",
    "            max_evals = MAX_EVALS)\n",
    "best"
   ]
  },
  {
   "cell_type": "code",
   "execution_count": null,
   "metadata": {},
   "outputs": [],
   "source": [
    "# See the lowest loss\n",
    "cont_trials_dict = sorted(trials.results, key = lambda x: x['loss'], reverse=False)\n",
    "cont_trials_dict[0]"
   ]
  },
  {
   "cell_type": "code",
   "execution_count": null,
   "metadata": {},
   "outputs": [],
   "source": [
    "# Append the original searched result\n",
    "for each_iteration_result in cont_trials_dict:\n",
    "    trials_dict.append(each_iteration_result)\n",
    "    \n",
    "# Inspect the number of searching\n",
    "len(trials_dict)"
   ]
  },
  {
   "cell_type": "code",
   "execution_count": null,
   "metadata": {},
   "outputs": [],
   "source": [
    "# Save the result in a json file\n",
    "#with open('OS_SGD_Logistic_Regression.json', 'w') as f:\n",
    "    #f.write(json.dumps(trials_dict))\n",
    "\n",
    "with open('OS_CW_SGD_Logistic_Regression.json', 'w') as f:\n",
    "    f.write(json.dumps(trials_dict))"
   ]
  },
  {
   "cell_type": "code",
   "execution_count": null,
   "metadata": {},
   "outputs": [],
   "source": [
    "#params_result = pd.read_csv('OS_SGD_Logistic_Regression.csv')\n",
    "#params_result.head()\n",
    "\n",
    "params_result = pd.read_csv('OS_CW_SGD_Logistic_Regression.csv')\n",
    "params_result.head()"
   ]
  },
  {
   "cell_type": "code",
   "execution_count": null,
   "metadata": {},
   "outputs": [],
   "source": [
    "# The optimal model\n",
    "params_result.sort_values(by = 'loss').head(5)"
   ]
  },
  {
   "cell_type": "code",
   "execution_count": null,
   "metadata": {},
   "outputs": [],
   "source": [
    "params_result.sort_values(by = 'loss').head(1)['hyperparameters'].values"
   ]
  },
  {
   "cell_type": "markdown",
   "metadata": {},
   "source": [
    "# 5. Result comparison"
   ]
  },
  {
   "cell_type": "code",
   "execution_count": 29,
   "metadata": {},
   "outputs": [],
   "source": [
    "# Helper function of plotting different scores given differnt threshold values.\n",
    "def threshold_metric_visualization(y_test, prediction):\n",
    "    accuracy_score_ls = []\n",
    "    precision_score_ls = []\n",
    "    recall_score_ls = []\n",
    "    f1_score_ls = []\n",
    "    threshold_ls = []\n",
    "    predictions = prediction\n",
    "    \n",
    "    # Loop through different thresholds ranged from 0 to 1.\n",
    "    for threshold in np.arange(0, 1, 0.1):\n",
    "        threshold_ls.append(threshold)\n",
    "        accuracy_score_ls.append(accuracy_score(y_test, predictions>threshold))\n",
    "        precision_score_ls.append(precision_score(y_test, predictions>threshold))\n",
    "        recall_score_ls.append(recall_score(y_test, predictions>threshold))\n",
    "        f1_score_ls.append(f1_score(y_test, predictions>threshold))\n",
    "    \n",
    "    plt.figure(figsize=(10,6))\n",
    "    plt.plot(threshold_ls,accuracy_score_ls)\n",
    "    plt.plot(threshold_ls,precision_score_ls)\n",
    "    plt.plot(threshold_ls,recall_score_ls)\n",
    "    plt.plot(threshold_ls,f1_score_ls)\n",
    "    plt.legend(['accuracy', 'precision', 'recall', 'f1-score'], loc = 'best')\n",
    "    plt.xlabel('threshold')\n",
    "    plt.ylabel('score')"
   ]
  },
  {
   "cell_type": "code",
   "execution_count": 30,
   "metadata": {},
   "outputs": [
    {
     "data": {
      "image/png": "[encoded data removed]",
      "text/plain": [
       "<Figure size 720x432 with 1 Axes>"
      ]
     },
     "metadata": {
      "needs_background": "light"
     },
     "output_type": "display_data"
    }
   ],
   "source": [
    "# Model 1\n",
    "threshold_metric_visualization(y_test=y_test, \n",
    "                               prediction=model_1.predict_proba(test_standardized_data)[:,1])"
   ]
  },
  {
   "cell_type": "code",
   "execution_count": 31,
   "metadata": {},
   "outputs": [
    {
     "data": {
      "text/html": [
       "<div>\n",
       "<style scoped>\n",
       "    .dataframe tbody tr th:only-of-type {\n",
       "        vertical-align: middle;\n",
       "    }\n",
       "\n",
       "    .dataframe tbody tr th {\n",
       "        vertical-align: top;\n",
       "    }\n",
       "\n",
       "    .dataframe thead th {\n",
       "        text-align: right;\n",
       "    }\n",
       "</style>\n",
       "<table border=\"1\" class=\"dataframe\">\n",
       "  <thead>\n",
       "    <tr style=\"text-align: right;\">\n",
       "      <th></th>\n",
       "      <th>Pred 0</th>\n",
       "      <th>Pred 1</th>\n",
       "    </tr>\n",
       "  </thead>\n",
       "  <tbody>\n",
       "    <tr>\n",
       "      <th>True 0</th>\n",
       "      <td>3890</td>\n",
       "      <td>3400</td>\n",
       "    </tr>\n",
       "    <tr>\n",
       "      <th>True 1</th>\n",
       "      <td>1253</td>\n",
       "      <td>6077</td>\n",
       "    </tr>\n",
       "  </tbody>\n",
       "</table>\n",
       "</div>"
      ],
      "text/plain": [
       "        Pred 0  Pred 1\n",
       "True 0    3890    3400\n",
       "True 1    1253    6077"
      ]
     },
     "execution_count": 31,
     "metadata": {},
     "output_type": "execute_result"
    }
   ],
   "source": [
    "# Threshold decision: Model 1 \n",
    "\n",
    "# I chose the threshold at 0.3 since at this point, the model can achieve favorable\n",
    "# precision and recall score at the same time.\n",
    "# However, I treated the recall score more important than precision because my objective\n",
    "# is to identify the 'subscribed' customers among all subscribed customers correctly.\n",
    "\n",
    "# A higher precision score means that among the predictions, \n",
    "# how many are correctly predicted as the true ground choices.\n",
    "\n",
    "# A higher recall score indicates that among the true ground choices, \n",
    "# how many are correctly predicted.\n",
    "pd.DataFrame(confusion_matrix(y_test, \n",
    "                              y_pred=model_1.predict_proba(test_standardized_data)[:, 1] > 0.3), \n",
    "             columns=['Pred 0', 'Pred 1'],\n",
    "             index = ['True 0', 'True 1'])"
   ]
  },
  {
   "cell_type": "code",
   "execution_count": 32,
   "metadata": {},
   "outputs": [
    {
     "name": "stdout",
     "output_type": "stream",
     "text": [
      "Model 1: When the threshold is 0.3, the precision score is 0.6412 and the recall is 0.8291.\n"
     ]
    }
   ],
   "source": [
    "print('Model 1: When the threshold is 0.3, the precision score is {} and the recall is {}.'.\\\n",
    "      format(round(6077/(3400+6077), 4), round(6077/(1253+6077), 4)))"
   ]
  },
  {
   "cell_type": "code",
   "execution_count": 33,
   "metadata": {},
   "outputs": [
    {
     "data": {
      "image/png": "[encoded data removed]",
      "text/plain": [
       "<Figure size 720x432 with 1 Axes>"
      ]
     },
     "metadata": {
      "needs_background": "light"
     },
     "output_type": "display_data"
    }
   ],
   "source": [
    "# Model 2\n",
    "threshold_metric_visualization(y_test=y_test, \n",
    "                               prediction=model_2.predict_proba(test_standardized_data)[:,1])"
   ]
  },
  {
   "cell_type": "code",
   "execution_count": 34,
   "metadata": {},
   "outputs": [
    {
     "data": {
      "text/html": [
       "<div>\n",
       "<style scoped>\n",
       "    .dataframe tbody tr th:only-of-type {\n",
       "        vertical-align: middle;\n",
       "    }\n",
       "\n",
       "    .dataframe tbody tr th {\n",
       "        vertical-align: top;\n",
       "    }\n",
       "\n",
       "    .dataframe thead th {\n",
       "        text-align: right;\n",
       "    }\n",
       "</style>\n",
       "<table border=\"1\" class=\"dataframe\">\n",
       "  <thead>\n",
       "    <tr style=\"text-align: right;\">\n",
       "      <th></th>\n",
       "      <th>Pred 0</th>\n",
       "      <th>Pred 1</th>\n",
       "    </tr>\n",
       "  </thead>\n",
       "  <tbody>\n",
       "    <tr>\n",
       "      <th>True 0</th>\n",
       "      <td>3265</td>\n",
       "      <td>4025</td>\n",
       "    </tr>\n",
       "    <tr>\n",
       "      <th>True 1</th>\n",
       "      <td>975</td>\n",
       "      <td>6355</td>\n",
       "    </tr>\n",
       "  </tbody>\n",
       "</table>\n",
       "</div>"
      ],
      "text/plain": [
       "        Pred 0  Pred 1\n",
       "True 0    3265    4025\n",
       "True 1     975    6355"
      ]
     },
     "execution_count": 34,
     "metadata": {},
     "output_type": "execute_result"
    }
   ],
   "source": [
    "pd.DataFrame(confusion_matrix(y_test, \n",
    "                              y_pred=model_2.predict_proba(test_standardized_data)[:, 1] > 0.8), \n",
    "             columns=['Pred 0', 'Pred 1'],\n",
    "             index = ['True 0', 'True 1'])"
   ]
  },
  {
   "cell_type": "code",
   "execution_count": 35,
   "metadata": {},
   "outputs": [
    {
     "name": "stdout",
     "output_type": "stream",
     "text": [
      "Model 2: When the threshold is 0.8, the precision score is 0.6162 and the recall is 0.8629.\n"
     ]
    }
   ],
   "source": [
    "print('Model 2: When the threshold is 0.8, the precision score is {} and the recall is {}.'.\\\n",
    "      format(round(6325/(3940+6325), 4), round(6325/(1005+6325), 4)))"
   ]
  },
  {
   "cell_type": "markdown",
   "metadata": {},
   "source": [
    "**Notice: Metrics including precision, recall, and f1-score are returned at the threshold = 0.5 on the same test data among three models.**\n",
    "\n",
    "|Model|Precision| Recall| F1-score | AUC | \n",
    "| - | - | - | - | - | \n",
    "|Unbalanced Labels SGDclassifier| 0.72 | 0.22 | 0.34 | 0.7911 |\n",
    "|Balanced Labels (SMOTE) SGDclassifier| **0.81** | 0.63 | **0.71** | **0.7980**| \n",
    "|Balanced (SMOTE) & Adjusted Penalties on Labels SGDclassifier | 0.50 | **1.00** | 0.67 | 0.7965 |\n",
    "\n",
    "From the above summary table, using SMOTE over-sampling improved the model performance in each metric. Among three models, I chose the second one since it achieved the highest AUC and if I set the threshold at 0.3, the corresponding recall score is 0.8291, which is not bad."
   ]
  },
  {
   "cell_type": "markdown",
   "metadata": {},
   "source": [
    "# 6. Summary\n",
    "- 6.1 Less important features\n",
    "    - 6.1.1 Coefficients = 0\n",
    "    - 6.1.2 The top 5 least important features\n",
    "- 6.2 Important features - Interpreting coefficients"
   ]
  },
  {
   "cell_type": "markdown",
   "metadata": {},
   "source": [
    "## 6.1 Less important features"
   ]
  },
  {
   "cell_type": "markdown",
   "metadata": {},
   "source": [
    "### 6.1.1 Coefficients = 0"
   ]
  },
  {
   "cell_type": "code",
   "execution_count": 36,
   "metadata": {},
   "outputs": [
    {
     "name": "stdout",
     "output_type": "stream",
     "text": [
      "\n",
      "0 coefficients of predictors were pushed to 0.\n"
     ]
    }
   ],
   "source": [
    "# 0 coefficients (betas)\n",
    "# If the coefficient of a predictor is pushed to 0, then this predictor doesn't play\n",
    "# any significant role in predictions.\n",
    "i = 0\n",
    "for index in abs(model_1.coef_.flatten()).argsort():\n",
    "    if model_1.coef_.flatten()[index] == 0:\n",
    "        print('Coefficient of column {} is {}.'.format(\n",
    "            x_train.columns[index],\n",
    "            round(model_1.coef_.flatten()[index], 4)\n",
    "             ))\n",
    "        i+=1\n",
    "print()\n",
    "print('{} coefficients of predictors were pushed to 0.'.format(i))"
   ]
  },
  {
   "cell_type": "markdown",
   "metadata": {},
   "source": [
    "### 6.1.2 The top 5 least important features"
   ]
  },
  {
   "cell_type": "code",
   "execution_count": 37,
   "metadata": {},
   "outputs": [
    {
     "name": "stdout",
     "output_type": "stream",
     "text": [
      "Coefficient of column job_unknown is -0.0009.\n",
      "Coefficient of column education_basic.6y is 0.0014.\n",
      "Coefficient of column marital_unknown is 0.0017.\n",
      "Coefficient of column day_of_week_fri is -0.002.\n",
      "Coefficient of column day_of_week_thu is 0.0025.\n"
     ]
    }
   ],
   "source": [
    "i = 0\n",
    "for index in abs(model_1.coef_.flatten()).argsort():\n",
    "    if model_1.coef_.flatten()[index] != 0 and i<5:\n",
    "        print('Coefficient of column {} is {}.'.format(\n",
    "            x_train.columns[index],\n",
    "            round(model_1.coef_.flatten()[index], 4)))\n",
    "        i+=1"
   ]
  },
  {
   "cell_type": "markdown",
   "metadata": {},
   "source": [
    "## 6.2 Important features - Interpreting coefficients"
   ]
  },
  {
   "cell_type": "code",
   "execution_count": 38,
   "metadata": {},
   "outputs": [
    {
     "name": "stdout",
     "output_type": "stream",
     "text": [
      "Coefficient of column emp_var_rate is -1.4962.\n",
      "Coefficient of column pdays is -0.3754.\n",
      "Coefficient of column contact is -0.2825.\n",
      "Coefficient of column month_may is -0.1876.\n",
      "Coefficient of column campaign is -0.1522.\n"
     ]
    }
   ],
   "source": [
    "# The top 5 most important negative predictors.\n",
    "i = 0\n",
    "for index in model_1.coef_.flatten().argsort():\n",
    "    if model_1.coef_.flatten()[index] != 0 and i<5:\n",
    "        print('Coefficient of column {} is {}.'.format(\n",
    "            x_train.columns[index],\n",
    "            round(model_1.coef_.flatten()[index], 4)))\n",
    "        i+=1"
   ]
  },
  {
   "cell_type": "code",
   "execution_count": 39,
   "metadata": {},
   "outputs": [
    {
     "name": "stdout",
     "output_type": "stream",
     "text": [
      "Coefficient of column cons_price_idx is 0.6869.\n",
      "Coefficient of column euribor3m is 0.3581.\n",
      "Coefficient of column month_mar is 0.208.\n",
      "Coefficient of column month_aug is 0.1162.\n",
      "Coefficient of column cons_conf_idx is 0.1074.\n"
     ]
    }
   ],
   "source": [
    "# The top 5 most important positive predictors.\n",
    "i = 0\n",
    "for index in model_1.coef_.flatten().argsort()[::-1]:\n",
    "    if model_1.coef_.flatten()[index] != 0 and i<5:\n",
    "        print('Coefficient of column {} is {}.'.format(\n",
    "            x_train.columns[index],\n",
    "            round(model_1.coef_.flatten()[index], 4)))\n",
    "        i+=1"
   ]
  },
  {
   "cell_type": "markdown",
   "metadata": {},
   "source": [
    "#### Increasing the feature value by 1 decreases logit odds by theta and odds by the exponential of theta.\n",
    "\n",
    "| Negative Feature |$$\\theta$$| $$e^\\theta$$ |\n",
    "| - | - | - |\n",
    "| emp_var_rate | -1.4962 | 0.2240 |\n",
    "| pdays | -0.3754 | 0.6870 |\n",
    "| contact | -0.2825 | 0.7539 | \n",
    "| month_may | -0.1876 | 0.8289 | \n",
    "| campaign | -0.1522 | 0.8588 |\n",
    "\n",
    "#### Increasing the feature value by 1 increases logit odds by theta and odds by the exponential of theta.\n",
    "\n",
    "| Positive Feature |$$\\theta$$| $$e^\\theta$$ |\n",
    "| - | - | - |\n",
    "| cons_price_idx | 0.6869 | 1.9875 |\n",
    "| euribor3m | 0.3581 | 1.4306 |\n",
    "| month_mar | 0.2080 | 1.2312 | \n",
    "| month_aug | 0.1162 | 1.1232 | \n",
    "| cons_conf_idx | 0.1074 | 1.1134 |\n",
    "\n",
    "#### Recommendations\n",
    "- Nagative Features\n",
    "    - Uncontrollable\n",
    "        - emp_var_rate: Employment variation rate - quarterly indicator. -> The less the better.\n",
    "    - Controllable\n",
    "        - pdays: Number of days that passed by after the client was last contacted from a previous campaign. -> **The less the better.** The longer the days that passed after the last contact, the less probobability to subscribe the term.\n",
    "        - contact: Contact communication type (0: 'cellular', 1: 'telephone'). -> **Clients contacted by the cellular tended to subscribe terms.**\n",
    "        - month_may: Last contact month of year. -> **The last time clients contacted on May are less likely to subscribe terms.**\n",
    "        - campaign: Number of contacts performed during this campaign and for this client. -> **The less contacts to the clients, the higher probobability to subscribe term.** Clients might feel annoying or disturbing when they contacted too much time.\n",
    "- Positive Features\n",
    "    - Uncontrollable\n",
    "        - cons_price_idx (CPI): Consumer price index - monthly indicator. \n",
    "        - euribor3m: Euribor 3 month rate - daily indicator.\n",
    "        - cons_conf_idx: consumer confidence index - monthly indicator. \n",
    "    - Controllable\n",
    "        - month_mar: Last contact month of year. -> **The last time clients contacted on March are more likely to subscribe terms.**\n",
    "        - month_aug: Last contact month of year. -> **The last time clients contacted on August are more likely to subscribe terms.**"
   ]
  },
  {
   "cell_type": "code",
   "execution_count": null,
   "metadata": {},
   "outputs": [],
   "source": []
  }
 ],
 "metadata": {
  "kernelspec": {
   "display_name": "Python 3",
   "language": "python",
   "name": "python3"
  },
  "language_info": {
   "codemirror_mode": {
    "name": "ipython",
    "version": 3
   },
   "file_extension": ".py",
   "mimetype": "text/x-python",
   "name": "python",
   "nbconvert_exporter": "python",
   "pygments_lexer": "ipython3",
   "version": "3.6.6"
  }
 },
 "nbformat": 4,
 "nbformat_minor": 2
}
