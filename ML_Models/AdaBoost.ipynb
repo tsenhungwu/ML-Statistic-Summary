{
 "cells": [
  {
   "cell_type": "code",
   "execution_count": 1,
   "metadata": {},
   "outputs": [],
   "source": [
    "import numpy as np\n",
    "import matplotlib.pyplot as plt"
   ]
  },
  {
   "cell_type": "markdown",
   "metadata": {},
   "source": [
    "# Topics covered in this notebook\n",
    "## 1. General Introduction\n",
    "## 2. Modeling Steps\n",
    "## 3. Example\n",
    "## 4. Modeling - Adaboost"
   ]
  },
  {
   "cell_type": "markdown",
   "metadata": {},
   "source": [
    "# 1. General Introduction\n",
    "- Boosting is a general ensemble method that creates a strong classifier from a number of weak classifiers.\n",
    "- This is done by building a model from the training data, then creating a second model that attempts to correct the errors from the first model. Models are added until the training set is predicted perfectly or a maximum number of models are added."
   ]
  },
  {
   "cell_type": "markdown",
   "metadata": {},
   "source": [
    "# 2. Modeling Steps\n",
    "- Each instance in the training dataset is weighted. The initial weight is set to: \n",
    "$$ w_i = 1/n $$\n",
    ", where n is the number of training instances.\n",
    "- Fit a weak classifier to the training data, outputs +1 or -1, and calculate the misclassification rate: \n",
    "$$ err_m = \\frac {\\sum_{i=1}^n w_i I(y_i \\neq G_m(x_i))} {\\sum_{i=1}^n w_i}$$\n",
    ", where m is the index of a weak classifier.\n",
    "- Compute (see Figure I): \n",
    "$$\\alpha_m = \\frac {1} {2} \\log \\frac {1-err_m} {err_m}$$\n",
    "- Update weights (see Figure II): \n",
    "$$ w_{i+1} = \\frac {w_i \\exp(-\\alpha_m y_i G_m(x_i))} {Z_i}$$\n",
    "$$ Z_i = \\sum_{i=1}^n w_i \\exp(-\\alpha_m y_i G_m(x_i)) $$\n",
    ", where Z_i makes sure the weight vector added up to 1.\n",
    "- Prediction (ensemble):\n",
    "$$ G(x) = sign(\\sum_{m=1}^M  \\alpha_m G_m(x)) $$"
   ]
  },
  {
   "cell_type": "markdown",
   "metadata": {},
   "source": [
    "## Figure I\n",
    "- Relationship between alpha and error rate."
   ]
  },
  {
   "cell_type": "code",
   "execution_count": 2,
   "metadata": {},
   "outputs": [
    {
     "name": "stderr",
     "output_type": "stream",
     "text": [
      "/Users/wuchenhong/anaconda3/lib/python3.6/site-packages/ipykernel_launcher.py:3: RuntimeWarning: divide by zero encountered in double_scalars\n",
      "  This is separate from the ipykernel package so we can avoid doing imports until\n",
      "/Users/wuchenhong/anaconda3/lib/python3.6/site-packages/ipykernel_launcher.py:3: RuntimeWarning: divide by zero encountered in log\n",
      "  This is separate from the ipykernel package so we can avoid doing imports until\n"
     ]
    }
   ],
   "source": [
    "alpha_m = []\n",
    "for error_rate in np.arange(0,1.1,0.1):\n",
    "    alpha_m.append(np.log((1-error_rate)/error_rate))"
   ]
  },
  {
   "cell_type": "code",
   "execution_count": 3,
   "metadata": {},
   "outputs": [],
   "source": [
    "# To avoid having -inf and inf values, I used misclassification rate very closed to 0 and 1.\n",
    "alpha_m[0] = np.log((1-0.0001)/0.0001)\n",
    "alpha_m[-1] = np.log((1-0.9999)/0.9999)"
   ]
  },
  {
   "cell_type": "code",
   "execution_count": 4,
   "metadata": {},
   "outputs": [
    {
     "data": {
      "text/plain": [
       "Text(0, 0.5, 'alpha(m)')"
      ]
     },
     "execution_count": 4,
     "metadata": {},
     "output_type": "execute_result"
    },
    {
     "data": {
      "image/png": "[encoded data removed]",
      "text/plain": [
       "<Figure size 432x288 with 1 Axes>"
      ]
     },
     "metadata": {
      "needs_background": "light"
     },
     "output_type": "display_data"
    }
   ],
   "source": [
    "plt.plot(np.arange(0,1.1,0.1),alpha_m)\n",
    "plt.xlabel('misclassification rate(m)', fontsize=15)\n",
    "plt.ylabel('alpha(m)', fontsize=15)"
   ]
  },
  {
   "cell_type": "markdown",
   "metadata": {},
   "source": [
    "- **Three key points to take from the above graph:**\n",
    "    1. The classifier's alpha grows exponentially as the error approaches 0. Better classifiers are given exponentially more weight.\n",
    "    2. The classifier's alpha is zero if the error rate is 0.5. A classifier with 50% accuracy is no better than random guessing.\n",
    "    3. The classifier's alpha grows exponentially negative as the error approaches 1. We give a negative weight to classifiers with worse worse than 50% accuracy. “Whatever that classifier says, do the opposite!”."
   ]
  },
  {
   "cell_type": "code",
   "execution_count": 5,
   "metadata": {},
   "outputs": [
    {
     "name": "stdout",
     "output_type": "stream",
     "text": [
      "When the misclassification rate is 0.5, the corresponding alpha(m) is 0.0.\n"
     ]
    }
   ],
   "source": [
    "print('When the misclassification rate is 0.5, the corresponding alpha(m) is {}.'.format(\n",
    "    np.log((1-0.5)/0.5)))"
   ]
  },
  {
   "cell_type": "markdown",
   "metadata": {},
   "source": [
    "## Figure II"
   ]
  },
  {
   "cell_type": "code",
   "execution_count": 6,
   "metadata": {},
   "outputs": [],
   "source": [
    "exp_result = []\n",
    "for i in np.arange(-1,1.25,0.25):\n",
    "    exp_result.append(np.exp(i))"
   ]
  },
  {
   "cell_type": "code",
   "execution_count": 7,
   "metadata": {},
   "outputs": [
    {
     "data": {
      "text/plain": [
       "Text(0, 0.5, 'exp(x)')"
      ]
     },
     "execution_count": 7,
     "metadata": {},
     "output_type": "execute_result"
    },
    {
     "data": {
      "image/png": "[encoded data removed]",
      "text/plain": [
       "<Figure size 432x288 with 1 Axes>"
      ]
     },
     "metadata": {
      "needs_background": "light"
     },
     "output_type": "display_data"
    }
   ],
   "source": [
    "plt.plot(np.arange(-1,1.25,0.25),exp_result)\n",
    "plt.xlabel('x', fontsize=15)\n",
    "plt.ylabel('exp(x)', fontsize=15)"
   ]
  },
  {
   "cell_type": "markdown",
   "metadata": {},
   "source": [
    "- **Three key points to take from the above graph:**\n",
    "    1. Return a fraction for negative values of x.\n",
    "    2. A value greater than one for positive values of x.\n",
    "    3. Has the effect of lowering down weights for data points classified correctly ."
   ]
  },
  {
   "cell_type": "markdown",
   "metadata": {},
   "source": [
    "# 3. Example"
   ]
  },
  {
   "cell_type": "markdown",
   "metadata": {},
   "source": [
    "| - | 1 | 2 | 3 | 4 | 5 | 6 | 7 | 8 | 9 | 10 |\n",
    "| - | - | - | - | - | - | - | - | - | - | - |\n",
    "| X | 0 | 1 | 2 | 3 | 4 | 5 | 6 | 7 | 8 | 9 |\n",
    "| Y | 1 | 1 | 1 | -1 | -1 | -1 | 1 | 1 | 1 | -1 |"
   ]
  },
  {
   "cell_type": "markdown",
   "metadata": {},
   "source": [
    "## Iteration 1"
   ]
  },
  {
   "cell_type": "markdown",
   "metadata": {},
   "source": [
    "- **Initiate equal weights:**"
   ]
  },
  {
   "cell_type": "code",
   "execution_count": 8,
   "metadata": {},
   "outputs": [
    {
     "data": {
      "text/plain": [
       "[0.1, 0.1, 0.1, 0.1, 0.1, 0.1, 0.1, 0.1, 0.1, 0.1]"
      ]
     },
     "execution_count": 8,
     "metadata": {},
     "output_type": "execute_result"
    }
   ],
   "source": [
    "w_1 = [1/10] * 10\n",
    "w_1"
   ]
  },
  {
   "cell_type": "markdown",
   "metadata": {},
   "source": [
    "- **Select a threshold at 2.5 to achieve the smallest error rate:**"
   ]
  },
  {
   "cell_type": "markdown",
   "metadata": {},
   "source": [
    "$$ G_1(x) = \n",
    "\\begin{cases}\n",
    "    1 & \\text{if } \\text{x < 2.5}\\\\\n",
    "    -1 & \\text{if } \\text{x > 2.5}\n",
    "\\end{cases} $$"
   ]
  },
  {
   "cell_type": "markdown",
   "metadata": {},
   "source": [
    "| - | 1 | 2 | 3 | 4 | 5 | 6 | 7 | 8 | 9 | 10 |\n",
    "| - | - | - | - | - | - | - | - | - | - | - |\n",
    "| X | 0 | 1 | 2 | 3 | 4 | 5 | 6 | 7 | 8 | 9 |\n",
    "| Y | 1 | 1 | 1 | -1 | -1 | -1 | 1 | 1 | 1 | -1 |\n",
    "| Pred Y | 1 | 1 | 1 | -1 | -1 | -1 | **-1** | **-1** | **-1** | -1 |"
   ]
  },
  {
   "cell_type": "markdown",
   "metadata": {},
   "source": [
    "- **Compute error rate**:\n",
    "$$ err_{m1} = \\frac{0.1+0.1+0.1}{1} = 0.3 $$ "
   ]
  },
  {
   "cell_type": "markdown",
   "metadata": {},
   "source": [
    "- **Compute alpha:**\n",
    "$$\\alpha_{m1} = \\frac {1} {2} \\log {\\frac {1-0.3} {0.3}} = 0.4236 $$ "
   ]
  },
  {
   "cell_type": "code",
   "execution_count": 9,
   "metadata": {},
   "outputs": [
    {
     "data": {
      "text/plain": [
       "0.42364893019360184"
      ]
     },
     "execution_count": 9,
     "metadata": {},
     "output_type": "execute_result"
    }
   ],
   "source": [
    "alpha_1 = 0.5*(np.log((1-0.3)/0.3))\n",
    "alpha_1"
   ]
  },
  {
   "cell_type": "markdown",
   "metadata": {},
   "source": [
    "- **Update weights:**"
   ]
  },
  {
   "cell_type": "code",
   "execution_count": 10,
   "metadata": {},
   "outputs": [],
   "source": [
    "# Z_i\n",
    "# Left: data points which are incorrectly predicted by the model 1\n",
    "# Right:data points which are correctly predicted by the model 1\n",
    "z_1 = np.exp(-0.4236*-1)*0.1*3 + np.exp(-0.4236*1)*0.1*7"
   ]
  },
  {
   "cell_type": "code",
   "execution_count": 11,
   "metadata": {},
   "outputs": [],
   "source": [
    "w_1[6:9] = [0.1*np.exp(-0.4236*-1)/z_1]*3\n",
    "w_1[0:6] = [0.1*np.exp(-0.4236*1)/z_1]*6\n",
    "w_1[-1] = 0.1*(np.exp(-0.4236*1)/z_1)"
   ]
  },
  {
   "cell_type": "code",
   "execution_count": 12,
   "metadata": {},
   "outputs": [
    {
     "data": {
      "text/plain": [
       "[0.07143206644239734,\n",
       " 0.07143206644239734,\n",
       " 0.07143206644239734,\n",
       " 0.07143206644239734,\n",
       " 0.07143206644239734,\n",
       " 0.07143206644239734,\n",
       " 0.1666585116344062,\n",
       " 0.1666585116344062,\n",
       " 0.1666585116344062,\n",
       " 0.07143206644239734]"
      ]
     },
     "execution_count": 12,
     "metadata": {},
     "output_type": "execute_result"
    }
   ],
   "source": [
    "# Notice: data points which are\n",
    "# incorrectly predicted by the model 1 have higher weights\n",
    "# compared with data points which are orrectly predicted!\n",
    "w_1"
   ]
  },
  {
   "cell_type": "markdown",
   "metadata": {},
   "source": [
    "## Iteration 2"
   ]
  },
  {
   "cell_type": "markdown",
   "metadata": {},
   "source": [
    "- **Select a threshold at 8.5 to achieve the smallest error rate:**"
   ]
  },
  {
   "cell_type": "markdown",
   "metadata": {},
   "source": [
    "$$ G_2(x) = \n",
    "\\begin{cases}\n",
    "    1 & \\text{if } \\text{x < 8.5}\\\\\n",
    "    -1 & \\text{if } \\text{x > 8.5}\n",
    "\\end{cases} $$"
   ]
  },
  {
   "cell_type": "markdown",
   "metadata": {},
   "source": [
    "| - | 1 | 2 | 3 | 4 | 5 | 6 | 7 | 8 | 9 | 10 |\n",
    "| - | - | - | - | - | - | - | - | - | - | - |\n",
    "| X | 0 | 1 | 2 | 3 | 4 | 5 | 6 | 7 | 8 | 9 |\n",
    "| Y | 1 | 1 | 1 | -1 | -1 | -1 | 1 | 1 | 1 | -1 |\n",
    "| Pred Y | 1 | 1 | 1 | **1** | **1** | **1** | 1 | 1 | 1 | -1 |"
   ]
  },
  {
   "cell_type": "markdown",
   "metadata": {},
   "source": [
    "- **Compute**:\n",
    "$$ err_{m2} = 0.2143 $$ "
   ]
  },
  {
   "cell_type": "code",
   "execution_count": 13,
   "metadata": {},
   "outputs": [
    {
     "data": {
      "text/plain": [
       "0.21429619932719202"
      ]
     },
     "execution_count": 13,
     "metadata": {},
     "output_type": "execute_result"
    }
   ],
   "source": [
    "sum(w_1[3:6])"
   ]
  },
  {
   "cell_type": "markdown",
   "metadata": {},
   "source": [
    "- **Compute:**\n",
    "$$\\alpha_{m2} = \\frac {1} {2} \\log {\\frac {1-0.2143} {0.2143}} = 0.6496 $$ "
   ]
  },
  {
   "cell_type": "code",
   "execution_count": 14,
   "metadata": {},
   "outputs": [
    {
     "data": {
      "text/plain": [
       "0.6495990688511224"
      ]
     },
     "execution_count": 14,
     "metadata": {},
     "output_type": "execute_result"
    }
   ],
   "source": [
    "alpha_2 = 0.5*(np.log((1-0.2143)/0.2143))\n",
    "alpha_2"
   ]
  },
  {
   "cell_type": "markdown",
   "metadata": {},
   "source": [
    "- **Update weights:**"
   ]
  },
  {
   "cell_type": "code",
   "execution_count": 15,
   "metadata": {},
   "outputs": [],
   "source": [
    "z_2 = 0\n",
    "for i in range(len(w_1)):\n",
    "    if i in (3,4,5):\n",
    "        temp = np.exp(-0.6495990688511224*-1)*w_1[i]\n",
    "    else:\n",
    "        temp = np.exp(-0.6495990688511224*1)*w_1[i]\n",
    "    z_2+=temp"
   ]
  },
  {
   "cell_type": "code",
   "execution_count": 16,
   "metadata": {},
   "outputs": [],
   "source": [
    "w_2 = []\n",
    "for i in range(len(w_1)):\n",
    "    if i in (3,4,5):\n",
    "        w_2.append((w_1[i] / z_2) * np.exp(-0.6495990688511224*-1))\n",
    "    else:\n",
    "        w_2.append((w_1[i] / z_2) * np.exp(-0.6495990688511224*1))"
   ]
  },
  {
   "cell_type": "code",
   "execution_count": 17,
   "metadata": {},
   "outputs": [
    {
     "data": {
      "text/plain": [
       "[0.04545788921353735,\n",
       " 0.04545788921353735,\n",
       " 0.04545788921353735,\n",
       " 0.1666647856046491,\n",
       " 0.1666647856046491,\n",
       " 0.1666647856046491,\n",
       " 0.1060580287773011,\n",
       " 0.1060580287773011,\n",
       " 0.1060580287773011,\n",
       " 0.04545788921353735]"
      ]
     },
     "execution_count": 17,
     "metadata": {},
     "output_type": "execute_result"
    }
   ],
   "source": [
    "w_2"
   ]
  },
  {
   "cell_type": "markdown",
   "metadata": {},
   "source": [
    "## Iteration 3"
   ]
  },
  {
   "cell_type": "markdown",
   "metadata": {},
   "source": [
    "- **Select a threshold at 5.5 to achieve the smallest error rate:**"
   ]
  },
  {
   "cell_type": "markdown",
   "metadata": {},
   "source": [
    "$$ G_3(x) = \n",
    "\\begin{cases}\n",
    "    1 & \\text{if } \\text{x > 5.5}\\\\\n",
    "    -1 & \\text{if } \\text{x < 5.5}\n",
    "\\end{cases} $$"
   ]
  },
  {
   "cell_type": "markdown",
   "metadata": {},
   "source": [
    "| - | 1 | 2 | 3 | 4 | 5 | 6 | 7 | 8 | 9 | 10 |\n",
    "| - | - | - | - | - | - | - | - | - | - | - |\n",
    "| X | 0 | 1 | 2 | 3 | 4 | 5 | 6 | 7 | 8 | 9 |\n",
    "| Y | 1 | 1 | 1 | -1 | -1 | -1 | 1 | 1 | 1 | -1 |\n",
    "| Pred Y | **-1** | **-1** | **-1** | -1 | -1 | -1 | 1 | 1 | 1 | **1** |"
   ]
  },
  {
   "cell_type": "markdown",
   "metadata": {},
   "source": [
    "- **Compute**:\n",
    "$$ err_{m3} = 0.1818 $$ "
   ]
  },
  {
   "cell_type": "code",
   "execution_count": 18,
   "metadata": {},
   "outputs": [],
   "source": [
    "err_m3 = 0\n",
    "for i in range(len(w_2)):\n",
    "    if i in (0,1,2,9):\n",
    "        err_m3+=w_2[i]"
   ]
  },
  {
   "cell_type": "code",
   "execution_count": 19,
   "metadata": {},
   "outputs": [
    {
     "data": {
      "text/plain": [
       "0.1818315568541494"
      ]
     },
     "execution_count": 19,
     "metadata": {},
     "output_type": "execute_result"
    }
   ],
   "source": [
    "err_m3"
   ]
  },
  {
   "cell_type": "markdown",
   "metadata": {},
   "source": [
    "- **Compute:**\n",
    "$$\\alpha_{m3} = \\frac {1} {2} \\log {\\frac {1-0.1818} {0.1818}} = 0.7521 $$ "
   ]
  },
  {
   "cell_type": "code",
   "execution_count": 20,
   "metadata": {},
   "outputs": [
    {
     "data": {
      "text/plain": [
       "0.75209981187596"
      ]
     },
     "execution_count": 20,
     "metadata": {},
     "output_type": "execute_result"
    }
   ],
   "source": [
    "alpha_3 = 0.5*(np.log((1-0.1818)/0.1818))\n",
    "alpha_3"
   ]
  },
  {
   "cell_type": "markdown",
   "metadata": {},
   "source": [
    "- **Update weights:**"
   ]
  },
  {
   "cell_type": "code",
   "execution_count": 21,
   "metadata": {},
   "outputs": [],
   "source": [
    "z_3 = 0\n",
    "for i in range(len(w_2)):\n",
    "    if i in (0,1,2,9):\n",
    "        temp = np.exp(-0.75209981187596*-1)*w_2[i]\n",
    "    else:\n",
    "        temp = np.exp(-0.75209981187596*1)*w_2[i]\n",
    "    z_3+=temp"
   ]
  },
  {
   "cell_type": "code",
   "execution_count": 22,
   "metadata": {},
   "outputs": [],
   "source": [
    "w_3 = []\n",
    "for i in range(len(w_2)):\n",
    "    if i in (0,1,2,9):\n",
    "        w_3.append((w_2[i] / z_3) * np.exp(-0.75209981187596*-1))\n",
    "    else:\n",
    "        w_3.append((w_2[i] / z_3) * np.exp(-0.75209981187596*1))"
   ]
  },
  {
   "cell_type": "code",
   "execution_count": 23,
   "metadata": {},
   "outputs": [
    {
     "data": {
      "text/plain": [
       "[0.12501325839792937,\n",
       " 0.12501325839792937,\n",
       " 0.12501325839792937,\n",
       " 0.10184156412798416,\n",
       " 0.10184156412798416,\n",
       " 0.10184156412798416,\n",
       " 0.06480742467477667,\n",
       " 0.06480742467477667,\n",
       " 0.06480742467477667,\n",
       " 0.12501325839792937]"
      ]
     },
     "execution_count": 23,
     "metadata": {},
     "output_type": "execute_result"
    }
   ],
   "source": [
    "w_3"
   ]
  },
  {
   "cell_type": "markdown",
   "metadata": {},
   "source": [
    "## Takeaway\n",
    "- **1. Misclassified datapoints have higher updated weights. Datapoints correctly predicted have assigned lower updated weights. For instance, at the iteration 1, 7th, 8th, and 9th misclassified datapoints have been assigned higher weights 0.1666, compared with other datapoints.**\n",
    "- **2. In the next iteration, the model always learns the best and achieves the minimum error rate of itself by selecting an optimal threshold. At the same time, misclassified datapoints predicted by the previous model will be correctly classified by the next model due to the higher weights and the next model can thus avoid having a higher error rate.**\n",
    "\n",
    "- **3. The error rate keeps reducing through iterations. For this example, the error rate reduced from 0.3 to 0.2143, and from 0.2143 to 0.1818.**"
   ]
  },
  {
   "cell_type": "markdown",
   "metadata": {},
   "source": [
    "## Final Boosting Models (Predictions)"
   ]
  },
  {
   "cell_type": "code",
   "execution_count": 24,
   "metadata": {},
   "outputs": [],
   "source": [
    "pred_y1 = np.sign(alpha_1*1+alpha_2*1+alpha_3*-1)\n",
    "pred_y2 = np.sign(alpha_1*1+alpha_2*1+alpha_3*-1)\n",
    "pred_y3 = np.sign(alpha_1*1+alpha_2*1+alpha_3*-1)\n",
    "pred_y4 = np.sign(alpha_1*-1+alpha_2*1+alpha_3*-1)\n",
    "pred_y5 = np.sign(alpha_1*-1+alpha_2*1+alpha_3*-1)\n",
    "pred_y6 = np.sign(alpha_1*-1+alpha_2*1+alpha_3*-1)\n",
    "pred_y7 = np.sign(alpha_1*-1+alpha_2*1+alpha_3*1)\n",
    "pred_y8 = np.sign(alpha_1*-1+alpha_2*1+alpha_3*1)\n",
    "pred_y9 = np.sign(alpha_1*-1+alpha_2*1+alpha_3*1)\n",
    "pred_y10 = np.sign(alpha_1*-1+alpha_2*-1+alpha_3*1)"
   ]
  },
  {
   "cell_type": "code",
   "execution_count": 25,
   "metadata": {},
   "outputs": [
    {
     "data": {
      "text/plain": [
       "(1.0, 1.0, 1.0, -1.0, -1.0, -1.0, 1.0, 1.0, 1.0, -1.0)"
      ]
     },
     "execution_count": 25,
     "metadata": {},
     "output_type": "execute_result"
    }
   ],
   "source": [
    "# 100% accuracy achieved!\n",
    "pred_y1, pred_y2, pred_y3, pred_y4, pred_y5, pred_y6, pred_y7, pred_y8, pred_y9, pred_y10"
   ]
  },
  {
   "cell_type": "markdown",
   "metadata": {},
   "source": [
    "| - | 1 | 2 | 3 | 4 | 5 | 6 | 7 | 8 | 9 | 10 |\n",
    "| - | - | - | - | - | - | - | - | - | - | - |\n",
    "| X | 0 | 1 | 2 | 3 | 4 | 5 | 6 | 7 | 8 | 9 |\n",
    "| Y | 1 | 1 | 1 | -1 | -1 | -1 | 1 | 1 | 1 | -1 |\n",
    "| Pred Y | 1 | 1 | 1 | -1 | -1 | -1 | 1 | 1 | 1 | -1 |"
   ]
  },
  {
   "cell_type": "code",
   "execution_count": 26,
   "metadata": {},
   "outputs": [],
   "source": [
    "sign_output = []\n",
    "for i in np.arange(-1.0, 1.1, 0.1):\n",
    "    sign_output.append(np.sign(i))"
   ]
  },
  {
   "cell_type": "code",
   "execution_count": 27,
   "metadata": {},
   "outputs": [
    {
     "data": {
      "text/plain": [
       "Text(0, 0.5, 'sign(x)')"
      ]
     },
     "execution_count": 27,
     "metadata": {},
     "output_type": "execute_result"
    },
    {
     "data": {
      "image/png": "[encoded data removed]",
      "text/plain": [
       "<Figure size 432x288 with 1 Axes>"
      ]
     },
     "metadata": {
      "needs_background": "light"
     },
     "output_type": "display_data"
    }
   ],
   "source": [
    "# Sign function given different inputs\n",
    "# When x is larger than 0, then the output is always 1.\n",
    "# When x is less than 0, then the output is always -1.\n",
    "plt.plot(np.arange(-1.0, 1.1, 0.1), sign_output)\n",
    "plt.xlabel('x', fontsize=15)\n",
    "plt.ylabel('sign(x)', fontsize=15)"
   ]
  },
  {
   "cell_type": "code",
   "execution_count": null,
   "metadata": {},
   "outputs": [],
   "source": []
  }
 ],
 "metadata": {
  "kernelspec": {
   "display_name": "Python 3",
   "language": "python",
   "name": "python3"
  },
  "language_info": {
   "codemirror_mode": {
    "name": "ipython",
    "version": 3
   },
   "file_extension": ".py",
   "mimetype": "text/x-python",
   "name": "python",
   "nbconvert_exporter": "python",
   "pygments_lexer": "ipython3",
   "version": "3.6.7"
  }
 },
 "nbformat": 4,
 "nbformat_minor": 2
}
